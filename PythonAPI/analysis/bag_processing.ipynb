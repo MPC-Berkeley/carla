{
 "cells": [
  {
   "cell_type": "markdown",
   "metadata": {},
   "source": [
    "This notebook provides a convenient wrapper for bag_reader.  \n",
    "It looks for all bagfiles in a specified directory and converts to pickle/matfile for further processing."
   ]
  },
  {
   "cell_type": "code",
   "execution_count": 1,
   "metadata": {},
   "outputs": [
    {
     "name": "stderr",
     "output_type": "stream",
     "text": [
      "/media/govvijay/data/carla/carla_0_9_6/PythonAPI/analysis/transformations.py:1926: UserWarning: No module named '_transformations'\n",
      "  warnings.warn(str(err))\n"
     ]
    }
   ],
   "source": [
    "import glob\n",
    "import pickle\n",
    "import scipy.io as sio\n",
    "from bag_reader import *"
   ]
  },
  {
   "cell_type": "code",
   "execution_count": 2,
   "metadata": {},
   "outputs": [
    {
     "name": "stdout",
     "output_type": "stream",
     "text": [
      "Found the following bagfiles: ['../examples/bags/parking_p2_t2_e0_2019-11-04-16-36-50.bag', '../examples/bags/parking_p1_t1_e2_2019-11-04-14-35-28.bag']\n"
     ]
    }
   ],
   "source": [
    "bagfiles_to_process = glob.glob('../examples/bags/*.bag')\n",
    "\n",
    "print('Found the following bagfiles: %s' % bagfiles_to_process)"
   ]
  },
  {
   "cell_type": "markdown",
   "metadata": {},
   "source": [
    "### Topics processed by bag_reader.py\n",
    "\n",
    "* [x] /carla/actor_list\n",
    "* [x] /carla/hero/collision\n",
    "* [x] /carla/hero/gnss/front/fix\n",
    "* [x] /carla/hero/objects\n",
    "* [x] /carla/hero/odometry\n",
    "* [x] /carla/hero/vehicle_info\n",
    "* [x] /carla/hero/vehicle_status\n",
    "* [x] /carla/odometry\n",
    "* [x] /carla/status\n",
    "* [x] /carla/world_info\n",
    "* [x] /intention\n",
    "* [ ] <span style=\"color:blue\"> /carla/objects </span>\n",
    "* [ ] <span style=\"color:blue\"> /rosout </span>\n",
    "* [ ] <span style=\"color:blue\"> /rosout_agg </span>\n",
    "* [ ] <span style=\"color:blue\"> /tf </span>\n",
    "* [ ] <span style=\"color:blue\"> /carla/camera/rgb/front/camera_info </span>\n",
    "* [ ] <span style=\"color:blue\"> /carla/camera/rgb/front/image_color </span>\n",
    "* [ ] <span style=\"color:blue\"> /carla/marker </span>\n",
    "* [ ] <span style=\"color:blue\"> /clock </span>\n",
    "\n",
    "### Additional Notes\n",
    "<span style=\"color:blue\"> We do not plan to process blue topics (or will do it separately for images). /carla/objects contains the ego vehicle as well, so excluded. </span>\n",
    "\n",
    "<span style=\"color:red;font-weight:bold\"> Outlier detection is not perfect - only the trajectory from ego odometry is impacted if a jump is noticed. </span>\n",
    "\n",
    "<span style=\"color:red;font-weight:bold\"> TODO: extend to other time-varying fields. </span>\n"
   ]
  },
  {
   "cell_type": "code",
   "execution_count": 3,
   "metadata": {
    "scrolled": true
   },
   "outputs": [
    {
     "name": "stdout",
     "output_type": "stream",
     "text": [
      "Processing  ../examples/bags/parking_p2_t2_e0_2019-11-04-16-36-50.bag\n",
      "Outlier removed at time 1255.524, last entry at time 1255.690\n",
      "Processing  ../examples/bags/parking_p1_t1_e2_2019-11-04-14-35-28.bag\n",
      "Outlier removed at time 282.791, last entry at time 283.658\n",
      "Finished ../examples/bags/parking_p1_t1_e2_2019-11-04-14-35-28.pkl\n"
     ]
    }
   ],
   "source": [
    "for bagname in bagfiles_to_process:\n",
    "    print('Processing ', bagname)\n",
    "    result_dict = process_bag(bagname)\n",
    "    \n",
    "    fname = bagname.split('.bag')[0]\n",
    "    assert('parking' in fname)\n",
    "    \n",
    "    '''\n",
    "    # Save to file (matfile, needs work)\n",
    "    fname += '.mat'\n",
    "    print('Saving ', fname)\n",
    "    sio.savemat(fname, result_dict)\n",
    "    '''\n",
    "    \n",
    "    fname += '.pkl'\n",
    "    pickle.dump(result_dict, open(fname, 'wb'))\n",
    "    \n",
    "print('Finished', fname)"
   ]
  }
 ],
 "metadata": {
  "kernelspec": {
   "display_name": "Python 3",
   "language": "python",
   "name": "python3"
  },
  "language_info": {
   "codemirror_mode": {
    "name": "ipython",
    "version": 3
   },
   "file_extension": ".py",
   "mimetype": "text/x-python",
   "name": "python",
   "nbconvert_exporter": "python",
   "pygments_lexer": "ipython3",
   "version": "3.6.9"
  }
 },
 "nbformat": 4,
 "nbformat_minor": 2
}
