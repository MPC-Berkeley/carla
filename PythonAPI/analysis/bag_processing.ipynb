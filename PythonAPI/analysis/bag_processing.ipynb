{
 "cells": [
  {
   "cell_type": "markdown",
   "metadata": {},
   "source": [
    "This notebook provides a convenient wrapper for bag_reader.  \n",
    "It looks for all bagfiles in a specified directory and converts to pickle/matfile for further processing.\n",
    "\n",
    "* [ ] TODO: Filter out \"No intention pressed\"\n",
    "* [ ] TODO: The intention should be included only when it happens at the current time step, undetermined otherwise"
   ]
  },
  {
   "cell_type": "code",
   "execution_count": 1,
   "metadata": {
    "scrolled": true
   },
   "outputs": [
    {
     "name": "stderr",
     "output_type": "stream",
     "text": [
      "Failed to load Python extension for LZ4 support. LZ4 compression will not be available.\n",
      "/home/mpc/carla/PythonAPI/analysis/transformations.py:1926: UserWarning: No module named '_transformations'\n",
      "  warnings.warn(str(err))\n"
     ]
    }
   ],
   "source": [
    "import glob\n",
    "import pickle\n",
    "import scipy.io as sio\n",
    "from bag_reader import *\n",
    "from tqdm import tqdm\n",
    "import multiprocessing"
   ]
  },
  {
   "cell_type": "code",
   "execution_count": 2,
   "metadata": {},
   "outputs": [
    {
     "name": "stdout",
     "output_type": "stream",
     "text": [
      "Found 59 bagfiles: ['/media/data/carla_parking_data_bkcp/bags_original/parking_p2_t1_e2_2019-11-04-16-33-34.bag', '/media/data/carla_parking_data_bkcp/bags_original/parking_p2_t1_e0_2019-11-04-16-32-53.bag', '/media/data/carla_parking_data_bkcp/bags_original/parking_p1_t1_e3_2019-11-04-14-35-59.bag', '/media/data/carla_parking_data_bkcp/bags_original/parking_p2_t1_e9_2019-11-04-16-35-54.bag', '/media/data/carla_parking_data_bkcp/bags_original/parking_p1_t2_e5_2019-11-04-14-43-12.bag', '/media/data/carla_parking_data_bkcp/bags_original/parking_p3_t2_e1_2019-11-26-16-11-56.bag', '/media/data/carla_parking_data_bkcp/bags_original/parking_p2_t2_e1_2019-11-04-16-37-56.bag', '/media/data/carla_parking_data_bkcp/bags_original/parking_p3_t1_e4_2019-11-26-15-46-23.bag', '/media/data/carla_parking_data_bkcp/bags_original/parking_p1_t2_e1_2019-11-04-14-40-57.bag', '/media/data/carla_parking_data_bkcp/bags_original/parking_p3_t2_e9_2019-11-26-16-14-52.bag', '/media/data/carla_parking_data_bkcp/bags_original/parking_p1_t1_e0_2019-11-04-14-34-23.bag', '/media/data/carla_parking_data_bkcp/bags_original/parking_p2_t1_e6_2019-11-04-16-34-57.bag', '/media/data/carla_parking_data_bkcp/bags_original/parking_p2_t2_e4_2019-11-04-16-39-45.bag', '/media/data/carla_parking_data_bkcp/bags_original/parking_p2_t2_e8_2019-11-04-16-41-53.bag', '/media/data/carla_parking_data_bkcp/bags_original/parking_p2_t1_e3_2019-11-04-16-33-55.bag', '/media/data/carla_parking_data_bkcp/bags_original/parking_p1_t1_e7_2019-11-04-14-37-31.bag', '/media/data/carla_parking_data_bkcp/bags_original/parking_p3_t2_e2_2019-11-26-16-12-23.bag', '/media/data/carla_parking_data_bkcp/bags_original/parking_p2_t2_e7_2019-11-04-16-41-19.bag', '/media/data/carla_parking_data_bkcp/bags_original/parking_p3_t1_e3_2019-11-26-15-45-59.bag', '/media/data/carla_parking_data_bkcp/bags_original/parking_p3_t1_e7_2019-11-26-15-47-20.bag', '/media/data/carla_parking_data_bkcp/bags_original/parking_p1_t1_e1_2019-11-04-14-34-58.bag', '/media/data/carla_parking_data_bkcp/bags_original/parking_p2_t1_e1_2019-11-04-16-33-19.bag', '/media/data/carla_parking_data_bkcp/bags_original/parking_p3_t2_e8_2019-11-26-16-14-26.bag', '/media/data/carla_parking_data_bkcp/bags_original/parking_p2_t1_e7_2019-11-04-16-35-13.bag', '/media/data/carla_parking_data_bkcp/bags_original/parking_p1_t2_e0_2019-11-04-14-40-20.bag', '/media/data/carla_parking_data_bkcp/bags_original/parking_p1_t1_e6_2019-11-04-14-36-57.bag', '/media/data/carla_parking_data_bkcp/bags_original/parking_p1_t1_e9_2019-11-04-14-38-23.bag', '/media/data/carla_parking_data_bkcp/bags_original/parking_p2_t1_e8_2019-11-04-16-35-33.bag', '/media/data/carla_parking_data_bkcp/bags_original/parking_p1_t1_e2_2019-11-04-14-35-28.bag', '/media/data/carla_parking_data_bkcp/bags_original/parking_p3_t1_e0_2019-11-26-15-45-03.bag', '/media/data/carla_parking_data_bkcp/bags_original/parking_p1_t2_e6_2019-11-04-14-43-44.bag', '/media/data/carla_parking_data_bkcp/bags_original/parking_p2_t1_e4_2019-11-04-16-34-11.bag', '/media/data/carla_parking_data_bkcp/bags_original/parking_p2_t2_e2_2019-11-04-16-38-43.bag', '/media/data/carla_parking_data_bkcp/bags_original/parking_p3_t1_e5_2019-11-26-15-46-37.bag', '/media/data/carla_parking_data_bkcp/bags_original/parking_p1_t1_e4_2019-11-04-14-36-16.bag', '/media/data/carla_parking_data_bkcp/bags_original/parking_p1_t2_e8_2019-11-04-14-44-50.bag', '/media/data/carla_parking_data_bkcp/bags_original/parking_p3_t2_e7_2019-11-26-16-13-59.bag', '/media/data/carla_parking_data_bkcp/bags_original/parking_p1_t2_e2_2019-11-04-14-41-42.bag', '/media/data/carla_parking_data_bkcp/bags_original/parking_p3_t1_e2_2019-11-26-15-45-40.bag', '/media/data/carla_parking_data_bkcp/bags_original/parking_p1_t2_e7_2019-11-04-14-44-19.bag', '/media/data/carla_parking_data_bkcp/bags_original/parking_p1_t2_e4_2019-11-04-14-42-44.bag', '/media/data/carla_parking_data_bkcp/bags_original/parking_p3_t1_e8_2019-11-26-15-47-41.bag', '/media/data/carla_parking_data_bkcp/bags_original/parking_p1_t2_e3_2019-11-04-14-42-11.bag', '/media/data/carla_parking_data_bkcp/bags_original/parking_p1_t1_e8_2019-11-04-14-37-56.bag', '/media/data/carla_parking_data_bkcp/bags_original/parking_p2_t2_e5_2019-11-04-16-40-13.bag', '/media/data/carla_parking_data_bkcp/bags_original/parking_p3_t2_e0_2019-11-26-16-11-31.bag', '/media/data/carla_parking_data_bkcp/bags_original/parking_p2_t2_e9_2019-11-04-16-42-32.bag', '/media/data/carla_parking_data_bkcp/bags_original/parking_p1_t1_e5_2019-11-04-14-36-41.bag', '/media/data/carla_parking_data_bkcp/bags_original/parking_p1_t2_e9_2019-11-04-14-45-27.bag', '/media/data/carla_parking_data_bkcp/bags_original/parking_p3_t2_e6_2019-11-26-16-13-37.bag', '/media/data/carla_parking_data_bkcp/bags_original/parking_p2_t2_e0_2019-11-04-16-36-50.bag', '/media/data/carla_parking_data_bkcp/bags_original/parking_p2_t1_e5_2019-11-04-16-34-40.bag', '/media/data/carla_parking_data_bkcp/bags_original/parking_p2_t2_e3_2019-11-04-16-39-13.bag', '/media/data/carla_parking_data_bkcp/bags_original/parking_p3_t1_e1_2019-11-26-15-45-22.bag', '/media/data/carla_parking_data_bkcp/bags_original/parking_p3_t1_e6_2019-11-26-15-47-03.bag', '/media/data/carla_parking_data_bkcp/bags_original/parking_p3_t2_e4_2019-11-26-16-12-49.bag', '/media/data/carla_parking_data_bkcp/bags_original/parking_p3_t1_e9_2019-11-26-15-48-06.bag', '/media/data/carla_parking_data_bkcp/bags_original/parking_p2_t2_e6_2019-11-04-16-40-49.bag', '/media/data/carla_parking_data_bkcp/bags_original/parking_p3_t2_e5_2019-11-26-16-13-17.bag']\n"
     ]
    }
   ],
   "source": [
    "# bagfiles_to_process = glob.glob('../examples/bags/*.bag')\n",
    "# bagfiles_to_process = glob.glob('/media/data/carla_parking_data_bkcp/bags/*.bag')\n",
    "\n",
    "bagfiles_to_process = glob.glob('/media/data/carla_parking_data_bkcp/bags_original/*.bag')\n",
    "\n",
    "print('Found %d bagfiles: %s' % (len(bagfiles_to_process), bagfiles_to_process))\n"
   ]
  },
  {
   "cell_type": "markdown",
   "metadata": {},
   "source": [
    "### Topics processed by bag_reader.py\n",
    "\n",
    "* [x] /carla/actor_list\n",
    "* [x] /carla/hero/collision\n",
    "* [x] /carla/hero/gnss/front/fix\n",
    "* [x] /carla/hero/objects\n",
    "* [x] /carla/hero/odometry\n",
    "* [x] /carla/hero/vehicle_info\n",
    "* [x] /carla/hero/vehicle_status\n",
    "* [x] /carla/odometry\n",
    "* [x] /carla/status\n",
    "* [x] /carla/world_info\n",
    "* [x] /intention\n",
    "* [ ] <span style=\"color:blue\"> /carla/objects </span>\n",
    "* [ ] <span style=\"color:blue\"> /rosout </span>\n",
    "* [ ] <span style=\"color:blue\"> /rosout_agg </span>\n",
    "* [ ] <span style=\"color:blue\"> /tf </span>\n",
    "* [ ] <span style=\"color:blue\"> /carla/camera/rgb/front/camera_info </span>\n",
    "* [ ] <span style=\"color:blue\"> /carla/camera/rgb/front/image_color </span>\n",
    "* [ ] <span style=\"color:blue\"> /carla/marker </span>\n",
    "* [ ] <span style=\"color:blue\"> /clock </span>\n",
    "\n",
    "### Additional Notes\n",
    "<span style=\"color:blue\"> We do not plan to process blue topics (or will do it separately for images). /carla/objects contains the ego vehicle as well, so excluded. </span>\n",
    "\n",
    "<span style=\"color:red;font-weight:bold\"> Outlier detection is currently only applied for the ego odometry.</span>\n"
   ]
  },
  {
   "cell_type": "code",
   "execution_count": 3,
   "metadata": {
    "scrolled": true
   },
   "outputs": [
    {
     "name": "stderr",
     "output_type": "stream",
     "text": [
      "\r",
      "  0%|          | 0/59 [00:00<?, ?it/s]"
     ]
    },
    {
     "name": "stdout",
     "output_type": "stream",
     "text": [
      "Processing  /media/data/carla_parking_data_bkcp/bags_original/parking_p2_t1_e2_2019-11-04-16-33-34.bag\n"
     ]
    },
    {
     "name": "stderr",
     "output_type": "stream",
     "text": [
      "\r",
      "  2%|▏         | 1/59 [00:06<06:41,  6.92s/it]"
     ]
    },
    {
     "name": "stdout",
     "output_type": "stream",
     "text": [
      "\tOutlier detected.  Setting final time 593.490 vs. last entry at time 593.557 for ego odom.\n",
      "Saved : /media/data/carla_parking_data_bkcp/bags_original/parking_p2_t1_e2_2019-11-04-16-33-34.pkl\n",
      "Processing  /media/data/carla_parking_data_bkcp/bags_original/parking_p2_t1_e0_2019-11-04-16-32-53.bag\n"
     ]
    },
    {
     "name": "stderr",
     "output_type": "stream",
     "text": [
      "\r",
      "  3%|▎         | 2/59 [00:19<08:05,  8.52s/it]"
     ]
    },
    {
     "name": "stdout",
     "output_type": "stream",
     "text": [
      "Saved : /media/data/carla_parking_data_bkcp/bags_original/parking_p2_t1_e0_2019-11-04-16-32-53.pkl\n",
      "Processing  /media/data/carla_parking_data_bkcp/bags_original/parking_p1_t1_e3_2019-11-04-14-35-59.bag\n"
     ]
    },
    {
     "name": "stderr",
     "output_type": "stream",
     "text": [
      "\r",
      "  5%|▌         | 3/59 [00:26<07:38,  8.20s/it]"
     ]
    },
    {
     "name": "stdout",
     "output_type": "stream",
     "text": [
      "Saved : /media/data/carla_parking_data_bkcp/bags_original/parking_p1_t1_e3_2019-11-04-14-35-59.pkl\n",
      "Processing  /media/data/carla_parking_data_bkcp/bags_original/parking_p2_t1_e9_2019-11-04-16-35-54.bag\n"
     ]
    },
    {
     "name": "stderr",
     "output_type": "stream",
     "text": [
      "\r",
      "  7%|▋         | 4/59 [00:41<09:14, 10.08s/it]"
     ]
    },
    {
     "name": "stdout",
     "output_type": "stream",
     "text": [
      "Saved : /media/data/carla_parking_data_bkcp/bags_original/parking_p2_t1_e9_2019-11-04-16-35-54.pkl\n",
      "Processing  /media/data/carla_parking_data_bkcp/bags_original/parking_p1_t2_e5_2019-11-04-14-43-12.bag\n"
     ]
    },
    {
     "name": "stderr",
     "output_type": "stream",
     "text": [
      "\r",
      "  8%|▊         | 5/59 [00:56<10:37, 11.81s/it]"
     ]
    },
    {
     "name": "stdout",
     "output_type": "stream",
     "text": [
      "Saved : /media/data/carla_parking_data_bkcp/bags_original/parking_p1_t2_e5_2019-11-04-14-43-12.pkl\n",
      "Processing  /media/data/carla_parking_data_bkcp/bags_original/parking_p3_t2_e1_2019-11-26-16-11-56.bag\n"
     ]
    },
    {
     "name": "stderr",
     "output_type": "stream",
     "text": [
      "\r",
      " 10%|█         | 6/59 [01:09<10:44, 12.17s/it]"
     ]
    },
    {
     "name": "stdout",
     "output_type": "stream",
     "text": [
      "\tOutlier detected.  Setting final time 279.387 vs. last entry at time 279.420 for ego odom.\n",
      "Saved : /media/data/carla_parking_data_bkcp/bags_original/parking_p3_t2_e1_2019-11-26-16-11-56.pkl\n",
      "Processing  /media/data/carla_parking_data_bkcp/bags_original/parking_p2_t2_e1_2019-11-04-16-37-56.bag\n",
      "\tOutlier detected.  Setting final time 1300.857 vs. last entry at time 1300.890 for ego odom.\n"
     ]
    },
    {
     "name": "stderr",
     "output_type": "stream",
     "text": [
      "\r",
      " 12%|█▏        | 7/59 [01:36<14:10, 16.36s/it]"
     ]
    },
    {
     "name": "stdout",
     "output_type": "stream",
     "text": [
      "Saved : /media/data/carla_parking_data_bkcp/bags_original/parking_p2_t2_e1_2019-11-04-16-37-56.pkl\n",
      "Processing  /media/data/carla_parking_data_bkcp/bags_original/parking_p3_t1_e4_2019-11-26-15-46-23.bag\n"
     ]
    },
    {
     "name": "stderr",
     "output_type": "stream",
     "text": [
      "\r",
      " 14%|█▎        | 8/59 [01:39<10:40, 12.56s/it]"
     ]
    },
    {
     "name": "stdout",
     "output_type": "stream",
     "text": [
      "Saved : /media/data/carla_parking_data_bkcp/bags_original/parking_p3_t1_e4_2019-11-26-15-46-23.pkl\n",
      "Processing  /media/data/carla_parking_data_bkcp/bags_original/parking_p1_t2_e1_2019-11-04-14-40-57.bag\n"
     ]
    },
    {
     "name": "stderr",
     "output_type": "stream",
     "text": [
      "\r",
      " 15%|█▌        | 9/59 [02:04<13:28, 16.17s/it]"
     ]
    },
    {
     "name": "stdout",
     "output_type": "stream",
     "text": [
      "Saved : /media/data/carla_parking_data_bkcp/bags_original/parking_p1_t2_e1_2019-11-04-14-40-57.pkl\n",
      "Processing  /media/data/carla_parking_data_bkcp/bags_original/parking_p3_t2_e9_2019-11-26-16-14-52.bag\n"
     ]
    },
    {
     "name": "stderr",
     "output_type": "stream",
     "text": [
      "\r",
      " 17%|█▋        | 10/59 [02:18<12:48, 15.68s/it]"
     ]
    },
    {
     "name": "stdout",
     "output_type": "stream",
     "text": [
      "Saved : /media/data/carla_parking_data_bkcp/bags_original/parking_p3_t2_e9_2019-11-26-16-14-52.pkl\n",
      "Processing  /media/data/carla_parking_data_bkcp/bags_original/parking_p1_t1_e0_2019-11-04-14-34-23.bag\n"
     ]
    },
    {
     "name": "stderr",
     "output_type": "stream",
     "text": [
      "\r",
      " 19%|█▊        | 11/59 [02:37<13:12, 16.51s/it]"
     ]
    },
    {
     "name": "stdout",
     "output_type": "stream",
     "text": [
      "Saved : /media/data/carla_parking_data_bkcp/bags_original/parking_p1_t1_e0_2019-11-04-14-34-23.pkl\n",
      "Processing  /media/data/carla_parking_data_bkcp/bags_original/parking_p2_t1_e6_2019-11-04-16-34-57.bag\n"
     ]
    },
    {
     "name": "stderr",
     "output_type": "stream",
     "text": [
      "\r",
      " 20%|██        | 12/59 [02:43<10:35, 13.51s/it]"
     ]
    },
    {
     "name": "stdout",
     "output_type": "stream",
     "text": [
      "Saved : /media/data/carla_parking_data_bkcp/bags_original/parking_p2_t1_e6_2019-11-04-16-34-57.pkl\n",
      "Processing  /media/data/carla_parking_data_bkcp/bags_original/parking_p2_t2_e4_2019-11-04-16-39-45.bag\n"
     ]
    },
    {
     "name": "stderr",
     "output_type": "stream",
     "text": [
      "\r",
      " 22%|██▏       | 13/59 [02:51<09:02, 11.80s/it]"
     ]
    },
    {
     "name": "stdout",
     "output_type": "stream",
     "text": [
      "Saved : /media/data/carla_parking_data_bkcp/bags_original/parking_p2_t2_e4_2019-11-04-16-39-45.pkl\n",
      "Processing  /media/data/carla_parking_data_bkcp/bags_original/parking_p2_t2_e8_2019-11-04-16-41-53.bag\n"
     ]
    },
    {
     "name": "stderr",
     "output_type": "stream",
     "text": [
      "\r",
      " 24%|██▎       | 14/59 [03:11<10:36, 14.13s/it]"
     ]
    },
    {
     "name": "stdout",
     "output_type": "stream",
     "text": [
      "Saved : /media/data/carla_parking_data_bkcp/bags_original/parking_p2_t2_e8_2019-11-04-16-41-53.pkl\n",
      "Processing  /media/data/carla_parking_data_bkcp/bags_original/parking_p2_t1_e3_2019-11-04-16-33-55.bag\n"
     ]
    },
    {
     "name": "stderr",
     "output_type": "stream",
     "text": [
      "\r",
      " 25%|██▌       | 15/59 [03:15<08:06, 11.06s/it]"
     ]
    },
    {
     "name": "stdout",
     "output_type": "stream",
     "text": [
      "Saved : /media/data/carla_parking_data_bkcp/bags_original/parking_p2_t1_e3_2019-11-04-16-33-55.pkl\n",
      "Processing  /media/data/carla_parking_data_bkcp/bags_original/parking_p1_t1_e7_2019-11-04-14-37-31.bag\n"
     ]
    },
    {
     "name": "stderr",
     "output_type": "stream",
     "text": [
      "\r",
      " 27%|██▋       | 16/59 [03:26<07:56, 11.08s/it]"
     ]
    },
    {
     "name": "stdout",
     "output_type": "stream",
     "text": [
      "Saved : /media/data/carla_parking_data_bkcp/bags_original/parking_p1_t1_e7_2019-11-04-14-37-31.pkl\n",
      "Processing  /media/data/carla_parking_data_bkcp/bags_original/parking_p3_t2_e2_2019-11-26-16-12-23.bag\n"
     ]
    },
    {
     "name": "stderr",
     "output_type": "stream",
     "text": [
      "\r",
      " 29%|██▉       | 17/59 [03:38<07:54, 11.31s/it]"
     ]
    },
    {
     "name": "stdout",
     "output_type": "stream",
     "text": [
      "Saved : /media/data/carla_parking_data_bkcp/bags_original/parking_p3_t2_e2_2019-11-26-16-12-23.pkl\n",
      "Processing  /media/data/carla_parking_data_bkcp/bags_original/parking_p2_t2_e7_2019-11-04-16-41-19.bag\n"
     ]
    },
    {
     "name": "stderr",
     "output_type": "stream",
     "text": [
      "\r",
      " 31%|███       | 18/59 [03:55<08:56, 13.08s/it]"
     ]
    },
    {
     "name": "stdout",
     "output_type": "stream",
     "text": [
      "Saved : /media/data/carla_parking_data_bkcp/bags_original/parking_p2_t2_e7_2019-11-04-16-41-19.pkl\n",
      "Processing  /media/data/carla_parking_data_bkcp/bags_original/parking_p3_t1_e3_2019-11-26-15-45-59.bag\n"
     ]
    },
    {
     "name": "stderr",
     "output_type": "stream",
     "text": [
      "\r",
      " 32%|███▏      | 19/59 [04:06<08:22, 12.57s/it]"
     ]
    },
    {
     "name": "stdout",
     "output_type": "stream",
     "text": [
      "Saved : /media/data/carla_parking_data_bkcp/bags_original/parking_p3_t1_e3_2019-11-26-15-45-59.pkl\n",
      "Processing  /media/data/carla_parking_data_bkcp/bags_original/parking_p3_t1_e7_2019-11-26-15-47-20.bag\n"
     ]
    },
    {
     "name": "stderr",
     "output_type": "stream",
     "text": [
      "\r",
      " 34%|███▍      | 20/59 [04:15<07:29, 11.51s/it]"
     ]
    },
    {
     "name": "stdout",
     "output_type": "stream",
     "text": [
      "Saved : /media/data/carla_parking_data_bkcp/bags_original/parking_p3_t1_e7_2019-11-26-15-47-20.pkl\n",
      "Processing  /media/data/carla_parking_data_bkcp/bags_original/parking_p1_t1_e1_2019-11-04-14-34-58.bag\n"
     ]
    },
    {
     "name": "stderr",
     "output_type": "stream",
     "text": [
      "\r",
      " 36%|███▌      | 21/59 [04:30<07:59, 12.63s/it]"
     ]
    },
    {
     "name": "stdout",
     "output_type": "stream",
     "text": [
      "Saved : /media/data/carla_parking_data_bkcp/bags_original/parking_p1_t1_e1_2019-11-04-14-34-58.pkl\n",
      "Processing  /media/data/carla_parking_data_bkcp/bags_original/parking_p2_t1_e1_2019-11-04-16-33-19.bag\n"
     ]
    },
    {
     "name": "stderr",
     "output_type": "stream",
     "text": [
      "\r",
      " 37%|███▋      | 22/59 [04:34<06:10, 10.01s/it]"
     ]
    },
    {
     "name": "stdout",
     "output_type": "stream",
     "text": [
      "Saved : /media/data/carla_parking_data_bkcp/bags_original/parking_p2_t1_e1_2019-11-04-16-33-19.pkl\n",
      "Processing  /media/data/carla_parking_data_bkcp/bags_original/parking_p3_t2_e8_2019-11-26-16-14-26.bag\n"
     ]
    },
    {
     "name": "stderr",
     "output_type": "stream",
     "text": [
      "\r",
      " 39%|███▉      | 23/59 [04:48<06:34, 10.96s/it]"
     ]
    },
    {
     "name": "stdout",
     "output_type": "stream",
     "text": [
      "Saved : /media/data/carla_parking_data_bkcp/bags_original/parking_p3_t2_e8_2019-11-26-16-14-26.pkl\n",
      "Processing  /media/data/carla_parking_data_bkcp/bags_original/parking_p2_t1_e7_2019-11-04-16-35-13.bag\n"
     ]
    },
    {
     "name": "stderr",
     "output_type": "stream",
     "text": [
      "\r",
      " 41%|████      | 24/59 [04:56<06:00, 10.31s/it]"
     ]
    },
    {
     "name": "stdout",
     "output_type": "stream",
     "text": [
      "Saved : /media/data/carla_parking_data_bkcp/bags_original/parking_p2_t1_e7_2019-11-04-16-35-13.pkl\n",
      "Processing  /media/data/carla_parking_data_bkcp/bags_original/parking_p1_t2_e0_2019-11-04-14-40-20.bag\n"
     ]
    },
    {
     "name": "stderr",
     "output_type": "stream",
     "text": [
      "\r",
      " 42%|████▏     | 25/59 [05:14<07:04, 12.49s/it]"
     ]
    },
    {
     "name": "stdout",
     "output_type": "stream",
     "text": [
      "Saved : /media/data/carla_parking_data_bkcp/bags_original/parking_p1_t2_e0_2019-11-04-14-40-20.pkl\n",
      "Processing  /media/data/carla_parking_data_bkcp/bags_original/parking_p1_t1_e6_2019-11-04-14-36-57.bag\n"
     ]
    },
    {
     "name": "stderr",
     "output_type": "stream",
     "text": [
      "\r",
      " 44%|████▍     | 26/59 [05:32<07:45, 14.10s/it]"
     ]
    },
    {
     "name": "stdout",
     "output_type": "stream",
     "text": [
      "Saved : /media/data/carla_parking_data_bkcp/bags_original/parking_p1_t1_e6_2019-11-04-14-36-57.pkl\n",
      "Processing  /media/data/carla_parking_data_bkcp/bags_original/parking_p1_t1_e9_2019-11-04-14-38-23.bag\n"
     ]
    },
    {
     "name": "stderr",
     "output_type": "stream",
     "text": [
      "\r",
      " 46%|████▌     | 27/59 [05:45<07:21, 13.78s/it]"
     ]
    },
    {
     "name": "stdout",
     "output_type": "stream",
     "text": [
      "\tOutlier detected.  Setting final time 442.891 vs. last entry at time 443.058 for ego odom.\n",
      "Saved : /media/data/carla_parking_data_bkcp/bags_original/parking_p1_t1_e9_2019-11-04-14-38-23.pkl\n",
      "Processing  /media/data/carla_parking_data_bkcp/bags_original/parking_p2_t1_e8_2019-11-04-16-35-33.bag\n",
      "\tOutlier detected.  Setting final time 705.524 vs. last entry at time 705.690 for ego odom.\n"
     ]
    },
    {
     "name": "stderr",
     "output_type": "stream",
     "text": [
      "\r",
      " 47%|████▋     | 28/59 [05:57<06:47, 13.16s/it]"
     ]
    },
    {
     "name": "stdout",
     "output_type": "stream",
     "text": [
      "Saved : /media/data/carla_parking_data_bkcp/bags_original/parking_p2_t1_e8_2019-11-04-16-35-33.pkl\n",
      "Processing  /media/data/carla_parking_data_bkcp/bags_original/parking_p1_t1_e2_2019-11-04-14-35-28.bag\n"
     ]
    },
    {
     "name": "stderr",
     "output_type": "stream",
     "text": [
      "\r",
      " 49%|████▉     | 29/59 [06:12<06:56, 13.88s/it]"
     ]
    },
    {
     "name": "stdout",
     "output_type": "stream",
     "text": [
      "Ego vehicle not found in object list!\n",
      "Skipped  /media/data/carla_parking_data_bkcp/bags_original/parking_p1_t1_e2_2019-11-04-14-35-28.bag\n",
      "Processing  /media/data/carla_parking_data_bkcp/bags_original/parking_p3_t1_e0_2019-11-26-15-45-03.bag\n"
     ]
    },
    {
     "name": "stderr",
     "output_type": "stream",
     "text": [
      "\r",
      " 51%|█████     | 30/59 [06:16<05:19, 11.00s/it]"
     ]
    },
    {
     "name": "stdout",
     "output_type": "stream",
     "text": [
      "Saved : /media/data/carla_parking_data_bkcp/bags_original/parking_p3_t1_e0_2019-11-26-15-45-03.pkl\n",
      "Processing  /media/data/carla_parking_data_bkcp/bags_original/parking_p1_t2_e6_2019-11-04-14-43-44.bag\n"
     ]
    },
    {
     "name": "stderr",
     "output_type": "stream",
     "text": [
      "\r",
      " 53%|█████▎    | 31/59 [06:37<06:29, 13.90s/it]"
     ]
    },
    {
     "name": "stdout",
     "output_type": "stream",
     "text": [
      "Saved : /media/data/carla_parking_data_bkcp/bags_original/parking_p1_t2_e6_2019-11-04-14-43-44.pkl\n",
      "Processing  /media/data/carla_parking_data_bkcp/bags_original/parking_p2_t1_e4_2019-11-04-16-34-11.bag\n"
     ]
    },
    {
     "name": "stderr",
     "output_type": "stream",
     "text": [
      "\r",
      " 54%|█████▍    | 32/59 [06:53<06:34, 14.61s/it]"
     ]
    },
    {
     "name": "stdout",
     "output_type": "stream",
     "text": [
      "\tOutlier detected.  Setting final time 635.390 vs. last entry at time 635.557 for ego odom.\n",
      "Saved : /media/data/carla_parking_data_bkcp/bags_original/parking_p2_t1_e4_2019-11-04-16-34-11.pkl\n",
      "Processing  /media/data/carla_parking_data_bkcp/bags_original/parking_p2_t2_e2_2019-11-04-16-38-43.bag\n"
     ]
    },
    {
     "name": "stderr",
     "output_type": "stream",
     "text": [
      "\r",
      " 56%|█████▌    | 33/59 [07:10<06:35, 15.23s/it]"
     ]
    },
    {
     "name": "stdout",
     "output_type": "stream",
     "text": [
      "Saved : /media/data/carla_parking_data_bkcp/bags_original/parking_p2_t2_e2_2019-11-04-16-38-43.pkl\n",
      "Processing  /media/data/carla_parking_data_bkcp/bags_original/parking_p3_t1_e5_2019-11-26-15-46-37.bag\n"
     ]
    },
    {
     "name": "stderr",
     "output_type": "stream",
     "text": [
      "\r",
      " 58%|█████▊    | 34/59 [07:18<05:23, 12.94s/it]"
     ]
    },
    {
     "name": "stdout",
     "output_type": "stream",
     "text": [
      "Saved : /media/data/carla_parking_data_bkcp/bags_original/parking_p3_t1_e5_2019-11-26-15-46-37.pkl\n",
      "Processing  /media/data/carla_parking_data_bkcp/bags_original/parking_p1_t1_e4_2019-11-04-14-36-16.bag\n"
     ]
    },
    {
     "name": "stderr",
     "output_type": "stream",
     "text": [
      "\r",
      " 59%|█████▉    | 35/59 [07:31<05:14, 13.12s/it]"
     ]
    },
    {
     "name": "stdout",
     "output_type": "stream",
     "text": [
      "Saved : /media/data/carla_parking_data_bkcp/bags_original/parking_p1_t1_e4_2019-11-04-14-36-16.pkl\n",
      "Processing  /media/data/carla_parking_data_bkcp/bags_original/parking_p1_t2_e8_2019-11-04-14-44-50.bag\n"
     ]
    },
    {
     "name": "stderr",
     "output_type": "stream",
     "text": [
      "\r",
      " 61%|██████    | 36/59 [07:52<05:57, 15.53s/it]"
     ]
    },
    {
     "name": "stdout",
     "output_type": "stream",
     "text": [
      "Saved : /media/data/carla_parking_data_bkcp/bags_original/parking_p1_t2_e8_2019-11-04-14-44-50.pkl\n",
      "Processing  /media/data/carla_parking_data_bkcp/bags_original/parking_p3_t2_e7_2019-11-26-16-13-59.bag\n"
     ]
    },
    {
     "name": "stderr",
     "output_type": "stream",
     "text": [
      "\r",
      " 63%|██████▎   | 37/59 [08:00<04:47, 13.08s/it]"
     ]
    },
    {
     "name": "stdout",
     "output_type": "stream",
     "text": [
      "Saved : /media/data/carla_parking_data_bkcp/bags_original/parking_p3_t2_e7_2019-11-26-16-13-59.pkl\n",
      "Processing  /media/data/carla_parking_data_bkcp/bags_original/parking_p1_t2_e2_2019-11-04-14-41-42.bag\n"
     ]
    },
    {
     "name": "stderr",
     "output_type": "stream",
     "text": [
      "\r",
      " 64%|██████▍   | 38/59 [08:15<04:52, 13.91s/it]"
     ]
    },
    {
     "name": "stdout",
     "output_type": "stream",
     "text": [
      "Saved : /media/data/carla_parking_data_bkcp/bags_original/parking_p1_t2_e2_2019-11-04-14-41-42.pkl\n",
      "Processing  /media/data/carla_parking_data_bkcp/bags_original/parking_p3_t1_e2_2019-11-26-15-45-40.bag\n"
     ]
    },
    {
     "name": "stderr",
     "output_type": "stream",
     "text": [
      "\r",
      " 66%|██████▌   | 39/59 [08:20<03:41, 11.05s/it]"
     ]
    },
    {
     "name": "stdout",
     "output_type": "stream",
     "text": [
      "Saved : /media/data/carla_parking_data_bkcp/bags_original/parking_p3_t1_e2_2019-11-26-15-45-40.pkl\n",
      "Processing  /media/data/carla_parking_data_bkcp/bags_original/parking_p1_t2_e7_2019-11-04-14-44-19.bag\n"
     ]
    },
    {
     "name": "stderr",
     "output_type": "stream",
     "text": [
      "\r",
      " 68%|██████▊   | 40/59 [08:37<04:05, 12.93s/it]"
     ]
    },
    {
     "name": "stdout",
     "output_type": "stream",
     "text": [
      "Saved : /media/data/carla_parking_data_bkcp/bags_original/parking_p1_t2_e7_2019-11-04-14-44-19.pkl\n",
      "Processing  /media/data/carla_parking_data_bkcp/bags_original/parking_p1_t2_e4_2019-11-04-14-42-44.bag\n"
     ]
    },
    {
     "name": "stderr",
     "output_type": "stream",
     "text": [
      "\r",
      " 69%|██████▉   | 41/59 [08:51<03:55, 13.08s/it]"
     ]
    },
    {
     "name": "stdout",
     "output_type": "stream",
     "text": [
      "Saved : /media/data/carla_parking_data_bkcp/bags_original/parking_p1_t2_e4_2019-11-04-14-42-44.pkl\n",
      "Processing  /media/data/carla_parking_data_bkcp/bags_original/parking_p3_t1_e8_2019-11-26-15-47-41.bag\n"
     ]
    },
    {
     "name": "stderr",
     "output_type": "stream",
     "text": [
      "\r",
      " 71%|███████   | 42/59 [09:05<03:47, 13.35s/it]"
     ]
    },
    {
     "name": "stdout",
     "output_type": "stream",
     "text": [
      "Saved : /media/data/carla_parking_data_bkcp/bags_original/parking_p3_t1_e8_2019-11-26-15-47-41.pkl\n",
      "Processing  /media/data/carla_parking_data_bkcp/bags_original/parking_p1_t2_e3_2019-11-04-14-42-11.bag\n"
     ]
    },
    {
     "name": "stderr",
     "output_type": "stream",
     "text": [
      "\r",
      " 73%|███████▎  | 43/59 [09:24<04:02, 15.15s/it]"
     ]
    },
    {
     "name": "stdout",
     "output_type": "stream",
     "text": [
      "Ego vehicle not found in object list!\n",
      "Skipped  /media/data/carla_parking_data_bkcp/bags_original/parking_p1_t2_e3_2019-11-04-14-42-11.bag\n",
      "Processing  /media/data/carla_parking_data_bkcp/bags_original/parking_p1_t1_e8_2019-11-04-14-37-56.bag\n"
     ]
    },
    {
     "name": "stderr",
     "output_type": "stream",
     "text": [
      "\r",
      " 75%|███████▍  | 44/59 [09:40<03:50, 15.38s/it]"
     ]
    },
    {
     "name": "stdout",
     "output_type": "stream",
     "text": [
      "Saved : /media/data/carla_parking_data_bkcp/bags_original/parking_p1_t1_e8_2019-11-04-14-37-56.pkl\n",
      "Processing  /media/data/carla_parking_data_bkcp/bags_original/parking_p2_t2_e5_2019-11-04-16-40-13.bag\n"
     ]
    },
    {
     "name": "stderr",
     "output_type": "stream",
     "text": [
      "\r",
      " 76%|███████▋  | 45/59 [10:02<04:02, 17.35s/it]"
     ]
    },
    {
     "name": "stdout",
     "output_type": "stream",
     "text": [
      "Saved : /media/data/carla_parking_data_bkcp/bags_original/parking_p2_t2_e5_2019-11-04-16-40-13.pkl\n",
      "Processing  /media/data/carla_parking_data_bkcp/bags_original/parking_p3_t2_e0_2019-11-26-16-11-31.bag\n"
     ]
    },
    {
     "name": "stderr",
     "output_type": "stream",
     "text": [
      "\r",
      " 78%|███████▊  | 46/59 [10:10<03:09, 14.55s/it]"
     ]
    },
    {
     "name": "stdout",
     "output_type": "stream",
     "text": [
      "Saved : /media/data/carla_parking_data_bkcp/bags_original/parking_p3_t2_e0_2019-11-26-16-11-31.pkl\n",
      "Processing  /media/data/carla_parking_data_bkcp/bags_original/parking_p2_t2_e9_2019-11-04-16-42-32.bag\n"
     ]
    },
    {
     "name": "stderr",
     "output_type": "stream",
     "text": [
      "\r",
      " 80%|███████▉  | 47/59 [10:29<03:12, 16.07s/it]"
     ]
    },
    {
     "name": "stdout",
     "output_type": "stream",
     "text": [
      "Saved : /media/data/carla_parking_data_bkcp/bags_original/parking_p2_t2_e9_2019-11-04-16-42-32.pkl\n",
      "Processing  /media/data/carla_parking_data_bkcp/bags_original/parking_p1_t1_e5_2019-11-04-14-36-41.bag\n"
     ]
    },
    {
     "name": "stderr",
     "output_type": "stream",
     "text": [
      "\r",
      " 81%|████████▏ | 48/59 [10:34<02:18, 12.64s/it]"
     ]
    },
    {
     "name": "stdout",
     "output_type": "stream",
     "text": [
      "Saved : /media/data/carla_parking_data_bkcp/bags_original/parking_p1_t1_e5_2019-11-04-14-36-41.pkl\n",
      "Processing  /media/data/carla_parking_data_bkcp/bags_original/parking_p1_t2_e9_2019-11-04-14-45-27.bag\n"
     ]
    },
    {
     "name": "stderr",
     "output_type": "stream",
     "text": [
      "\r",
      " 83%|████████▎ | 49/59 [11:03<02:54, 17.43s/it]"
     ]
    },
    {
     "name": "stdout",
     "output_type": "stream",
     "text": [
      "Saved : /media/data/carla_parking_data_bkcp/bags_original/parking_p1_t2_e9_2019-11-04-14-45-27.pkl\n",
      "Processing  /media/data/carla_parking_data_bkcp/bags_original/parking_p3_t2_e6_2019-11-26-16-13-37.bag\n"
     ]
    },
    {
     "name": "stderr",
     "output_type": "stream",
     "text": [
      "\r",
      " 85%|████████▍ | 50/59 [11:09<02:07, 14.16s/it]"
     ]
    },
    {
     "name": "stdout",
     "output_type": "stream",
     "text": [
      "Saved : /media/data/carla_parking_data_bkcp/bags_original/parking_p3_t2_e6_2019-11-26-16-13-37.pkl\n",
      "Processing  /media/data/carla_parking_data_bkcp/bags_original/parking_p2_t2_e0_2019-11-04-16-36-50.bag\n",
      "\tOutlier detected.  Setting final time 1255.524 vs. last entry at time 1255.690 for ego odom.\n"
     ]
    },
    {
     "name": "stderr",
     "output_type": "stream",
     "text": [
      "\r",
      " 86%|████████▋ | 51/59 [11:48<02:52, 21.62s/it]"
     ]
    },
    {
     "name": "stdout",
     "output_type": "stream",
     "text": [
      "Saved : /media/data/carla_parking_data_bkcp/bags_original/parking_p2_t2_e0_2019-11-04-16-36-50.pkl\n",
      "Processing  /media/data/carla_parking_data_bkcp/bags_original/parking_p2_t1_e5_2019-11-04-16-34-40.bag\n"
     ]
    },
    {
     "name": "stderr",
     "output_type": "stream",
     "text": [
      "\r",
      " 88%|████████▊ | 52/59 [11:52<01:54, 16.40s/it]"
     ]
    },
    {
     "name": "stdout",
     "output_type": "stream",
     "text": [
      "\tOutlier detected.  Setting final time 651.824 vs. last entry at time 651.890 for ego odom.\n",
      "Saved : /media/data/carla_parking_data_bkcp/bags_original/parking_p2_t1_e5_2019-11-04-16-34-40.pkl\n",
      "Processing  /media/data/carla_parking_data_bkcp/bags_original/parking_p2_t2_e3_2019-11-04-16-39-13.bag\n"
     ]
    },
    {
     "name": "stderr",
     "output_type": "stream",
     "text": [
      "\r",
      " 90%|████████▉ | 53/59 [12:11<01:42, 17.16s/it]"
     ]
    },
    {
     "name": "stdout",
     "output_type": "stream",
     "text": [
      "\tOutlier detected.  Setting final time 1358.957 vs. last entry at time 1359.057 for ego odom.\n",
      "Saved : /media/data/carla_parking_data_bkcp/bags_original/parking_p2_t2_e3_2019-11-04-16-39-13.pkl\n",
      "Processing  /media/data/carla_parking_data_bkcp/bags_original/parking_p3_t1_e1_2019-11-26-15-45-22.bag\n"
     ]
    },
    {
     "name": "stderr",
     "output_type": "stream",
     "text": [
      "\r",
      " 92%|█████████▏| 54/59 [12:20<01:13, 14.70s/it]"
     ]
    },
    {
     "name": "stdout",
     "output_type": "stream",
     "text": [
      "Saved : /media/data/carla_parking_data_bkcp/bags_original/parking_p3_t1_e1_2019-11-26-15-45-22.pkl\n",
      "Processing  /media/data/carla_parking_data_bkcp/bags_original/parking_p3_t1_e6_2019-11-26-15-47-03.bag\n"
     ]
    },
    {
     "name": "stderr",
     "output_type": "stream",
     "text": [
      "\r",
      " 93%|█████████▎| 55/59 [12:29<00:51, 12.98s/it]"
     ]
    },
    {
     "name": "stdout",
     "output_type": "stream",
     "text": [
      "Saved : /media/data/carla_parking_data_bkcp/bags_original/parking_p3_t1_e6_2019-11-26-15-47-03.pkl\n",
      "Processing  /media/data/carla_parking_data_bkcp/bags_original/parking_p3_t2_e4_2019-11-26-16-12-49.bag\n"
     ]
    },
    {
     "name": "stderr",
     "output_type": "stream",
     "text": [
      "\r",
      " 95%|█████████▍| 56/59 [12:38<00:35, 11.69s/it]"
     ]
    },
    {
     "name": "stdout",
     "output_type": "stream",
     "text": [
      "Saved : /media/data/carla_parking_data_bkcp/bags_original/parking_p3_t2_e4_2019-11-26-16-12-49.pkl\n",
      "Processing  /media/data/carla_parking_data_bkcp/bags_original/parking_p3_t1_e9_2019-11-26-15-48-06.bag\n"
     ]
    },
    {
     "name": "stderr",
     "output_type": "stream",
     "text": [
      "\r",
      " 97%|█████████▋| 57/59 [12:44<00:20, 10.05s/it]"
     ]
    },
    {
     "name": "stdout",
     "output_type": "stream",
     "text": [
      "Saved : /media/data/carla_parking_data_bkcp/bags_original/parking_p3_t1_e9_2019-11-26-15-48-06.pkl\n",
      "Processing  /media/data/carla_parking_data_bkcp/bags_original/parking_p2_t2_e6_2019-11-04-16-40-49.bag\n"
     ]
    },
    {
     "name": "stderr",
     "output_type": "stream",
     "text": [
      "\r",
      " 98%|█████████▊| 58/59 [13:02<00:12, 12.27s/it]"
     ]
    },
    {
     "name": "stdout",
     "output_type": "stream",
     "text": [
      "Saved : /media/data/carla_parking_data_bkcp/bags_original/parking_p2_t2_e6_2019-11-04-16-40-49.pkl\n",
      "Processing  /media/data/carla_parking_data_bkcp/bags_original/parking_p3_t2_e5_2019-11-26-16-13-17.bag\n"
     ]
    },
    {
     "name": "stderr",
     "output_type": "stream",
     "text": [
      "100%|██████████| 59/59 [13:12<00:00, 13.44s/it]"
     ]
    },
    {
     "name": "stdout",
     "output_type": "stream",
     "text": [
      "Saved : /media/data/carla_parking_data_bkcp/bags_original/parking_p3_t2_e5_2019-11-26-16-13-17.pkl\n",
      "Finished with 57 processed and 2 skipped\n"
     ]
    },
    {
     "name": "stderr",
     "output_type": "stream",
     "text": [
      "\n"
     ]
    }
   ],
   "source": [
    "def process_bag_helper(bagname):\n",
    "    print('Processing ', bagname)\n",
    "    try:\n",
    "        result_dict = process_bag(bagname)\n",
    "        fname = bagname.split('.bag')[0]\n",
    "        assert('parking' in fname)\n",
    "\n",
    "        '''\n",
    "        # Save to file (matfile, needs work)\n",
    "        fname += '.mat'\n",
    "        print('Saving ', fname)\n",
    "        sio.savemat(fname, result_dict)\n",
    "        '''\n",
    "\n",
    "        fname += '.pkl'\n",
    "        pickle.dump(result_dict, open(fname, 'wb'))\n",
    "        print('Saved :', fname)\n",
    "        \n",
    "    except Exception as e:\n",
    "        print('Error: ', e)\n",
    "\n",
    "with multiprocessing.Pool(50) as p:\n",
    "    p.map(process_bag_helper, bagfiles_to_process)"
   ]
  },
  {
   "cell_type": "code",
   "execution_count": null,
   "metadata": {},
   "outputs": [],
   "source": []
  },
  {
   "cell_type": "code",
   "execution_count": null,
   "metadata": {},
   "outputs": [],
   "source": []
  }
 ],
 "metadata": {
  "kernelspec": {
   "display_name": "Python 3",
   "language": "python",
   "name": "python3"
  },
  "language_info": {
   "codemirror_mode": {
    "name": "ipython",
    "version": 3
   },
   "file_extension": ".py",
   "mimetype": "text/x-python",
   "name": "python",
   "nbconvert_exporter": "python",
   "pygments_lexer": "ipython3",
   "version": "3.6.10"
  }
 },
 "nbformat": 4,
 "nbformat_minor": 2
}
