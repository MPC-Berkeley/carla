{
 "cells": [
  {
   "cell_type": "markdown",
   "metadata": {},
   "source": [
    "This notebook provides a convenient wrapper for bag_reader.  \n",
    "It looks for all bagfiles in a specified directory and converts to pickle/matfile for further processing.\n",
    "\n",
    "* [ ] TODO: Filter out \"No intention pressed\"\n",
    "* [ ] TODO: The intention should be included only when it happens at the current time step, undetermined otherwise"
   ]
  },
  {
   "cell_type": "code",
   "execution_count": 1,
   "metadata": {},
   "outputs": [
    {
     "name": "stderr",
     "output_type": "stream",
     "text": [
      "Failed to load Python extension for LZ4 support. LZ4 compression will not be available.\n",
      "/home/mpc/carla/PythonAPI/analysis/transformations.py:1926: UserWarning: No module named '_transformations'\n",
      "  warnings.warn(str(err))\n"
     ]
    }
   ],
   "source": [
    "import glob\n",
    "import pickle\n",
    "import scipy.io as sio\n",
    "from bag_reader import *"
   ]
  },
  {
   "cell_type": "code",
   "execution_count": 2,
   "metadata": {},
   "outputs": [
    {
     "name": "stdout",
     "output_type": "stream",
     "text": [
      "Found 59 bagfiles: ['../examples/bags/parking_p3_t2_e8_2019-11-26-16-14-26.bag', '../examples/bags/parking_p2_t1_e3_2019-11-04-16-33-55.bag', '../examples/bags/parking_p1_t1_e5_2019-11-04-14-36-41.bag', '../examples/bags/parking_p2_t2_e9_2019-11-04-16-42-32.bag', '../examples/bags/parking_p3_t2_e7_2019-11-26-16-13-59.bag', '../examples/bags/parking_p2_t1_e4_2019-11-04-16-34-11.bag', '../examples/bags/parking_p3_t2_e9_2019-11-26-16-14-52.bag', '../examples/bags/parking_p3_t1_e8_2019-11-26-15-47-41.bag', '../examples/bags/parking_p3_t1_e2_2019-11-26-15-45-40.bag', '../examples/bags/parking_p3_t1_e9_2019-11-26-15-48-06.bag', '../examples/bags/parking_p2_t2_e1_2019-11-04-16-37-56.bag', '../examples/bags/parking_p1_t1_e3_2019-11-04-14-35-59.bag', '../examples/bags/parking_p3_t1_e1_2019-11-26-15-45-22.bag', '../examples/bags/parking_p1_t1_e7_2019-11-04-14-37-31.bag', '../examples/bags/parking_p2_t2_e7_2019-11-04-16-41-19.bag', '../examples/bags/parking_p2_t2_e2_2019-11-04-16-38-43.bag', '../examples/bags/parking_p2_t1_e0_2019-11-04-16-32-53.bag', '../examples/bags/parking_p3_t1_e3_2019-11-26-15-45-59.bag', '../examples/bags/parking_p1_t2_e6_2019-11-04-14-43-44.bag', '../examples/bags/parking_p1_t1_e6_2019-11-04-14-36-57.bag', '../examples/bags/parking_p1_t2_e3_2019-11-04-14-42-11.bag', '../examples/bags/parking_p1_t1_e4_2019-11-04-14-36-16.bag', '../examples/bags/parking_p3_t1_e7_2019-11-26-15-47-20.bag', '../examples/bags/parking_p1_t2_e7_2019-11-04-14-44-19.bag', '../examples/bags/parking_p2_t2_e5_2019-11-04-16-40-13.bag', '../examples/bags/parking_p1_t2_e4_2019-11-04-14-42-44.bag', '../examples/bags/parking_p1_t1_e0_2019-11-04-14-34-23.bag', '../examples/bags/parking_p2_t1_e8_2019-11-04-16-35-33.bag', '../examples/bags/parking_p3_t1_e0_2019-11-26-15-45-03.bag', '../examples/bags/parking_p2_t1_e9_2019-11-04-16-35-54.bag', '../examples/bags/parking_p2_t2_e0_2019-11-04-16-36-50.bag', '../examples/bags/parking_p3_t1_e4_2019-11-26-15-46-23.bag', '../examples/bags/parking_p2_t1_e1_2019-11-04-16-33-19.bag', '../examples/bags/parking_p1_t2_e8_2019-11-04-14-44-50.bag', '../examples/bags/parking_p2_t1_e7_2019-11-04-16-35-13.bag', '../examples/bags/parking_p1_t1_e9_2019-11-04-14-38-23.bag', '../examples/bags/parking_p3_t2_e0_2019-11-26-16-11-31.bag', '../examples/bags/parking_p2_t1_e6_2019-11-04-16-34-57.bag', '../examples/bags/parking_p3_t2_e5_2019-11-26-16-13-17.bag', '../examples/bags/parking_p3_t2_e4_2019-11-26-16-12-49.bag', '../examples/bags/parking_p2_t2_e8_2019-11-04-16-41-53.bag', '../examples/bags/parking_p1_t2_e0_2019-11-04-14-40-20.bag', '../examples/bags/parking_p3_t2_e2_2019-11-26-16-12-23.bag', '../examples/bags/parking_p3_t1_e6_2019-11-26-15-47-03.bag', '../examples/bags/parking_p1_t2_e9_2019-11-04-14-45-27.bag', '../examples/bags/parking_p3_t2_e6_2019-11-26-16-13-37.bag', '../examples/bags/parking_p1_t2_e2_2019-11-04-14-41-42.bag', '../examples/bags/parking_p1_t2_e1_2019-11-04-14-40-57.bag', '../examples/bags/parking_p2_t1_e5_2019-11-04-16-34-40.bag', '../examples/bags/parking_p2_t2_e4_2019-11-04-16-39-45.bag', '../examples/bags/parking_p3_t1_e5_2019-11-26-15-46-37.bag', '../examples/bags/parking_p2_t2_e6_2019-11-04-16-40-49.bag', '../examples/bags/parking_p2_t1_e2_2019-11-04-16-33-34.bag', '../examples/bags/parking_p1_t1_e2_2019-11-04-14-35-28.bag', '../examples/bags/parking_p1_t1_e8_2019-11-04-14-37-56.bag', '../examples/bags/parking_p3_t2_e1_2019-11-26-16-11-56.bag', '../examples/bags/parking_p1_t1_e1_2019-11-04-14-34-58.bag', '../examples/bags/parking_p1_t2_e5_2019-11-04-14-43-12.bag', '../examples/bags/parking_p2_t2_e3_2019-11-04-16-39-13.bag']\n"
     ]
    }
   ],
   "source": [
    "bagfiles_to_process = glob.glob('../examples/bags/*.bag')\n",
    "\n",
    "print('Found %d bagfiles: %s' % (len(bagfiles_to_process), bagfiles_to_process))\n"
   ]
  },
  {
   "cell_type": "markdown",
   "metadata": {},
   "source": [
    "### Topics processed by bag_reader.py\n",
    "\n",
    "* [x] /carla/actor_list\n",
    "* [x] /carla/hero/collision\n",
    "* [x] /carla/hero/gnss/front/fix\n",
    "* [x] /carla/hero/objects\n",
    "* [x] /carla/hero/odometry\n",
    "* [x] /carla/hero/vehicle_info\n",
    "* [x] /carla/hero/vehicle_status\n",
    "* [x] /carla/odometry\n",
    "* [x] /carla/status\n",
    "* [x] /carla/world_info\n",
    "* [x] /intention\n",
    "* [ ] <span style=\"color:blue\"> /carla/objects </span>\n",
    "* [ ] <span style=\"color:blue\"> /rosout </span>\n",
    "* [ ] <span style=\"color:blue\"> /rosout_agg </span>\n",
    "* [ ] <span style=\"color:blue\"> /tf </span>\n",
    "* [ ] <span style=\"color:blue\"> /carla/camera/rgb/front/camera_info </span>\n",
    "* [ ] <span style=\"color:blue\"> /carla/camera/rgb/front/image_color </span>\n",
    "* [ ] <span style=\"color:blue\"> /carla/marker </span>\n",
    "* [ ] <span style=\"color:blue\"> /clock </span>\n",
    "\n",
    "### Additional Notes\n",
    "<span style=\"color:blue\"> We do not plan to process blue topics (or will do it separately for images). /carla/objects contains the ego vehicle as well, so excluded. </span>\n",
    "\n",
    "<span style=\"color:red;font-weight:bold\"> Outlier detection is currently only applied for the ego odometry.</span>\n"
   ]
  },
  {
   "cell_type": "code",
   "execution_count": 3,
   "metadata": {
    "scrolled": true
   },
   "outputs": [
    {
     "name": "stdout",
     "output_type": "stream",
     "text": [
      "Processing  ../examples/bags/parking_p3_t2_e8_2019-11-26-16-14-26.bag\n",
      "Finished : ../examples/bags/parking_p3_t2_e8_2019-11-26-16-14-26.pkl\n",
      "Processing  ../examples/bags/parking_p2_t1_e3_2019-11-04-16-33-55.bag\n",
      "Finished : ../examples/bags/parking_p2_t1_e3_2019-11-04-16-33-55.pkl\n",
      "Processing  ../examples/bags/parking_p1_t1_e5_2019-11-04-14-36-41.bag\n",
      "Finished : ../examples/bags/parking_p1_t1_e5_2019-11-04-14-36-41.pkl\n",
      "Processing  ../examples/bags/parking_p2_t2_e9_2019-11-04-16-42-32.bag\n",
      "Finished : ../examples/bags/parking_p2_t2_e9_2019-11-04-16-42-32.pkl\n",
      "Processing  ../examples/bags/parking_p3_t2_e7_2019-11-26-16-13-59.bag\n",
      "Finished : ../examples/bags/parking_p3_t2_e7_2019-11-26-16-13-59.pkl\n",
      "Processing  ../examples/bags/parking_p2_t1_e4_2019-11-04-16-34-11.bag\n",
      "\tOutlier detected.  Setting final time 635.390 vs. last entry at time 635.557 for ego odom.\n",
      "Finished : ../examples/bags/parking_p2_t1_e4_2019-11-04-16-34-11.pkl\n",
      "Processing  ../examples/bags/parking_p3_t2_e9_2019-11-26-16-14-52.bag\n",
      "Finished : ../examples/bags/parking_p3_t2_e9_2019-11-26-16-14-52.pkl\n",
      "Processing  ../examples/bags/parking_p3_t1_e8_2019-11-26-15-47-41.bag\n",
      "Finished : ../examples/bags/parking_p3_t1_e8_2019-11-26-15-47-41.pkl\n",
      "Processing  ../examples/bags/parking_p3_t1_e2_2019-11-26-15-45-40.bag\n",
      "Finished : ../examples/bags/parking_p3_t1_e2_2019-11-26-15-45-40.pkl\n",
      "Processing  ../examples/bags/parking_p3_t1_e9_2019-11-26-15-48-06.bag\n",
      "Finished : ../examples/bags/parking_p3_t1_e9_2019-11-26-15-48-06.pkl\n",
      "Processing  ../examples/bags/parking_p2_t2_e1_2019-11-04-16-37-56.bag\n",
      "\tOutlier detected.  Setting final time 1300.857 vs. last entry at time 1300.890 for ego odom.\n",
      "Finished : ../examples/bags/parking_p2_t2_e1_2019-11-04-16-37-56.pkl\n",
      "Processing  ../examples/bags/parking_p1_t1_e3_2019-11-04-14-35-59.bag\n",
      "Finished : ../examples/bags/parking_p1_t1_e3_2019-11-04-14-35-59.pkl\n",
      "Processing  ../examples/bags/parking_p3_t1_e1_2019-11-26-15-45-22.bag\n",
      "Finished : ../examples/bags/parking_p3_t1_e1_2019-11-26-15-45-22.pkl\n",
      "Processing  ../examples/bags/parking_p1_t1_e7_2019-11-04-14-37-31.bag\n",
      "Finished : ../examples/bags/parking_p1_t1_e7_2019-11-04-14-37-31.pkl\n",
      "Processing  ../examples/bags/parking_p2_t2_e7_2019-11-04-16-41-19.bag\n",
      "Finished : ../examples/bags/parking_p2_t2_e7_2019-11-04-16-41-19.pkl\n",
      "Processing  ../examples/bags/parking_p2_t2_e2_2019-11-04-16-38-43.bag\n",
      "Finished : ../examples/bags/parking_p2_t2_e2_2019-11-04-16-38-43.pkl\n",
      "Processing  ../examples/bags/parking_p2_t1_e0_2019-11-04-16-32-53.bag\n",
      "Finished : ../examples/bags/parking_p2_t1_e0_2019-11-04-16-32-53.pkl\n",
      "Processing  ../examples/bags/parking_p3_t1_e3_2019-11-26-15-45-59.bag\n",
      "Finished : ../examples/bags/parking_p3_t1_e3_2019-11-26-15-45-59.pkl\n",
      "Processing  ../examples/bags/parking_p1_t2_e6_2019-11-04-14-43-44.bag\n",
      "Finished : ../examples/bags/parking_p1_t2_e6_2019-11-04-14-43-44.pkl\n",
      "Processing  ../examples/bags/parking_p1_t1_e6_2019-11-04-14-36-57.bag\n",
      "Finished : ../examples/bags/parking_p1_t1_e6_2019-11-04-14-36-57.pkl\n",
      "Processing  ../examples/bags/parking_p1_t2_e3_2019-11-04-14-42-11.bag\n",
      "\tOutlier detected.  Setting final time 2157.058 vs. last entry at time 2157.958 for ego odom.\n",
      "Finished : ../examples/bags/parking_p1_t2_e3_2019-11-04-14-42-11.pkl\n",
      "Processing  ../examples/bags/parking_p1_t1_e4_2019-11-04-14-36-16.bag\n",
      "Finished : ../examples/bags/parking_p1_t1_e4_2019-11-04-14-36-16.pkl\n",
      "Processing  ../examples/bags/parking_p3_t1_e7_2019-11-26-15-47-20.bag\n",
      "Finished : ../examples/bags/parking_p3_t1_e7_2019-11-26-15-47-20.pkl\n",
      "Processing  ../examples/bags/parking_p1_t2_e7_2019-11-04-14-44-19.bag\n",
      "Finished : ../examples/bags/parking_p1_t2_e7_2019-11-04-14-44-19.pkl\n",
      "Processing  ../examples/bags/parking_p2_t2_e5_2019-11-04-16-40-13.bag\n",
      "Finished : ../examples/bags/parking_p2_t2_e5_2019-11-04-16-40-13.pkl\n",
      "Processing  ../examples/bags/parking_p1_t2_e4_2019-11-04-14-42-44.bag\n",
      "Finished : ../examples/bags/parking_p1_t2_e4_2019-11-04-14-42-44.pkl\n",
      "Processing  ../examples/bags/parking_p1_t1_e0_2019-11-04-14-34-23.bag\n",
      "Finished : ../examples/bags/parking_p1_t1_e0_2019-11-04-14-34-23.pkl\n",
      "Processing  ../examples/bags/parking_p2_t1_e8_2019-11-04-16-35-33.bag\n",
      "\tOutlier detected.  Setting final time 705.524 vs. last entry at time 705.690 for ego odom.\n",
      "Finished : ../examples/bags/parking_p2_t1_e8_2019-11-04-16-35-33.pkl\n",
      "Processing  ../examples/bags/parking_p3_t1_e0_2019-11-26-15-45-03.bag\n",
      "Finished : ../examples/bags/parking_p3_t1_e0_2019-11-26-15-45-03.pkl\n",
      "Processing  ../examples/bags/parking_p2_t1_e9_2019-11-04-16-35-54.bag\n",
      "Finished : ../examples/bags/parking_p2_t1_e9_2019-11-04-16-35-54.pkl\n",
      "Processing  ../examples/bags/parking_p2_t2_e0_2019-11-04-16-36-50.bag\n",
      "\tOutlier detected.  Setting final time 1255.524 vs. last entry at time 1255.690 for ego odom.\n",
      "Finished : ../examples/bags/parking_p2_t2_e0_2019-11-04-16-36-50.pkl\n",
      "Processing  ../examples/bags/parking_p3_t1_e4_2019-11-26-15-46-23.bag\n",
      "Finished : ../examples/bags/parking_p3_t1_e4_2019-11-26-15-46-23.pkl\n",
      "Processing  ../examples/bags/parking_p2_t1_e1_2019-11-04-16-33-19.bag\n",
      "Finished : ../examples/bags/parking_p2_t1_e1_2019-11-04-16-33-19.pkl\n",
      "Processing  ../examples/bags/parking_p1_t2_e8_2019-11-04-14-44-50.bag\n",
      "Finished : ../examples/bags/parking_p1_t2_e8_2019-11-04-14-44-50.pkl\n",
      "Processing  ../examples/bags/parking_p2_t1_e7_2019-11-04-16-35-13.bag\n",
      "Finished : ../examples/bags/parking_p2_t1_e7_2019-11-04-16-35-13.pkl\n",
      "Processing  ../examples/bags/parking_p1_t1_e9_2019-11-04-14-38-23.bag\n",
      "\tOutlier detected.  Setting final time 442.891 vs. last entry at time 443.058 for ego odom.\n",
      "Finished : ../examples/bags/parking_p1_t1_e9_2019-11-04-14-38-23.pkl\n",
      "Processing  ../examples/bags/parking_p3_t2_e0_2019-11-26-16-11-31.bag\n",
      "Finished : ../examples/bags/parking_p3_t2_e0_2019-11-26-16-11-31.pkl\n",
      "Processing  ../examples/bags/parking_p2_t1_e6_2019-11-04-16-34-57.bag\n",
      "Finished : ../examples/bags/parking_p2_t1_e6_2019-11-04-16-34-57.pkl\n",
      "Processing  ../examples/bags/parking_p3_t2_e5_2019-11-26-16-13-17.bag\n",
      "Finished : ../examples/bags/parking_p3_t2_e5_2019-11-26-16-13-17.pkl\n",
      "Processing  ../examples/bags/parking_p3_t2_e4_2019-11-26-16-12-49.bag\n",
      "Finished : ../examples/bags/parking_p3_t2_e4_2019-11-26-16-12-49.pkl\n",
      "Processing  ../examples/bags/parking_p2_t2_e8_2019-11-04-16-41-53.bag\n",
      "Finished : ../examples/bags/parking_p2_t2_e8_2019-11-04-16-41-53.pkl\n",
      "Processing  ../examples/bags/parking_p1_t2_e0_2019-11-04-14-40-20.bag\n",
      "Finished : ../examples/bags/parking_p1_t2_e0_2019-11-04-14-40-20.pkl\n",
      "Processing  ../examples/bags/parking_p3_t2_e2_2019-11-26-16-12-23.bag\n",
      "Finished : ../examples/bags/parking_p3_t2_e2_2019-11-26-16-12-23.pkl\n",
      "Processing  ../examples/bags/parking_p3_t1_e6_2019-11-26-15-47-03.bag\n",
      "Finished : ../examples/bags/parking_p3_t1_e6_2019-11-26-15-47-03.pkl\n",
      "Processing  ../examples/bags/parking_p1_t2_e9_2019-11-04-14-45-27.bag\n",
      "Finished : ../examples/bags/parking_p1_t2_e9_2019-11-04-14-45-27.pkl\n",
      "Processing  ../examples/bags/parking_p3_t2_e6_2019-11-26-16-13-37.bag\n",
      "Finished : ../examples/bags/parking_p3_t2_e6_2019-11-26-16-13-37.pkl\n",
      "Processing  ../examples/bags/parking_p1_t2_e2_2019-11-04-14-41-42.bag\n",
      "Finished : ../examples/bags/parking_p1_t2_e2_2019-11-04-14-41-42.pkl\n",
      "Processing  ../examples/bags/parking_p1_t2_e1_2019-11-04-14-40-57.bag\n",
      "Finished : ../examples/bags/parking_p1_t2_e1_2019-11-04-14-40-57.pkl\n",
      "Processing  ../examples/bags/parking_p2_t1_e5_2019-11-04-16-34-40.bag\n",
      "\tOutlier detected.  Setting final time 651.824 vs. last entry at time 651.890 for ego odom.\n",
      "Finished : ../examples/bags/parking_p2_t1_e5_2019-11-04-16-34-40.pkl\n",
      "Processing  ../examples/bags/parking_p2_t2_e4_2019-11-04-16-39-45.bag\n",
      "Finished : ../examples/bags/parking_p2_t2_e4_2019-11-04-16-39-45.pkl\n",
      "Processing  ../examples/bags/parking_p3_t1_e5_2019-11-26-15-46-37.bag\n",
      "Finished : ../examples/bags/parking_p3_t1_e5_2019-11-26-15-46-37.pkl\n",
      "Processing  ../examples/bags/parking_p2_t2_e6_2019-11-04-16-40-49.bag\n",
      "Finished : ../examples/bags/parking_p2_t2_e6_2019-11-04-16-40-49.pkl\n",
      "Processing  ../examples/bags/parking_p2_t1_e2_2019-11-04-16-33-34.bag\n",
      "\tOutlier detected.  Setting final time 593.490 vs. last entry at time 593.557 for ego odom.\n",
      "Finished : ../examples/bags/parking_p2_t1_e2_2019-11-04-16-33-34.pkl\n",
      "Processing  ../examples/bags/parking_p1_t1_e2_2019-11-04-14-35-28.bag\n",
      "\tOutlier detected.  Setting final time 282.791 vs. last entry at time 283.658 for ego odom.\n",
      "Finished : ../examples/bags/parking_p1_t1_e2_2019-11-04-14-35-28.pkl\n",
      "Processing  ../examples/bags/parking_p1_t1_e8_2019-11-04-14-37-56.bag\n"
     ]
    },
    {
     "name": "stdout",
     "output_type": "stream",
     "text": [
      "Finished : ../examples/bags/parking_p1_t1_e8_2019-11-04-14-37-56.pkl\n",
      "Processing  ../examples/bags/parking_p3_t2_e1_2019-11-26-16-11-56.bag\n",
      "\tOutlier detected.  Setting final time 279.387 vs. last entry at time 279.420 for ego odom.\n",
      "Finished : ../examples/bags/parking_p3_t2_e1_2019-11-26-16-11-56.pkl\n",
      "Processing  ../examples/bags/parking_p1_t1_e1_2019-11-04-14-34-58.bag\n",
      "Finished : ../examples/bags/parking_p1_t1_e1_2019-11-04-14-34-58.pkl\n",
      "Processing  ../examples/bags/parking_p1_t2_e5_2019-11-04-14-43-12.bag\n",
      "Finished : ../examples/bags/parking_p1_t2_e5_2019-11-04-14-43-12.pkl\n",
      "Processing  ../examples/bags/parking_p2_t2_e3_2019-11-04-16-39-13.bag\n",
      "\tOutlier detected.  Setting final time 1358.957 vs. last entry at time 1359.057 for ego odom.\n",
      "Finished : ../examples/bags/parking_p2_t2_e3_2019-11-04-16-39-13.pkl\n"
     ]
    }
   ],
   "source": [
    "for bagname in bagfiles_to_process:\n",
    "    print('Processing ', bagname)\n",
    "    result_dict = process_bag(bagname)\n",
    "    \n",
    "    fname = bagname.split('.bag')[0]\n",
    "    assert('parking' in fname)\n",
    "    \n",
    "    '''\n",
    "    # Save to file (matfile, needs work)\n",
    "    fname += '.mat'\n",
    "    print('Saving ', fname)\n",
    "    sio.savemat(fname, result_dict)\n",
    "    '''\n",
    "    \n",
    "    fname += '.pkl'\n",
    "    pickle.dump(result_dict, open(fname, 'wb'))\n",
    "    \n",
    "    print('Finished :', fname)"
   ]
  },
  {
   "cell_type": "code",
   "execution_count": null,
   "metadata": {},
   "outputs": [],
   "source": []
  },
  {
   "cell_type": "code",
   "execution_count": null,
   "metadata": {},
   "outputs": [],
   "source": []
  }
 ],
 "metadata": {
  "kernelspec": {
   "display_name": "Python 3",
   "language": "python",
   "name": "python3"
  },
  "language_info": {
   "codemirror_mode": {
    "name": "ipython",
    "version": 3
   },
   "file_extension": ".py",
   "mimetype": "text/x-python",
   "name": "python",
   "nbconvert_exporter": "python",
   "pygments_lexer": "ipython3",
   "version": "3.6.9"
  }
 },
 "nbformat": 4,
 "nbformat_minor": 2
}
