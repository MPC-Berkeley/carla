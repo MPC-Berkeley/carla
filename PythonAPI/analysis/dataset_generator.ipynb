{
 "cells": [
  {
   "cell_type": "markdown",
   "metadata": {},
   "source": [
    "This notebook takes processed mat/pickle files and makes a dataset for prediction.\n",
    "In particular, given a history and prediction horizon, this generates all viable slices of a full trajectory.  This goes through all pickle files and constructs a dataset for k-fold cross validation."
   ]
  },
  {
   "cell_type": "code",
   "execution_count": 1,
   "metadata": {},
   "outputs": [
    {
     "name": "stderr",
     "output_type": "stream",
     "text": [
      "Using TensorFlow backend.\n"
     ]
    }
   ],
   "source": [
    "#%matplotlib notebook\n",
    "\n",
    "import glob\n",
    "import numpy as np\n",
    "import scipy.io as sio\n",
    "import pickle\n",
    "import matplotlib.pyplot as plt\n",
    "import pdb\n",
    "from pkl_reader import *\n",
    "from datetime import datetime\n",
    "import sklearn.utils as sku"
   ]
  },
  {
   "cell_type": "code",
   "execution_count": 2,
   "metadata": {},
   "outputs": [],
   "source": [
    "''' CONFIG: CONSTANTS FOR EXECUTION '''\n",
    "\n",
    "now = datetime.now()\n",
    "dt_string = now.strftime('%m_%d_%H:%M:%S')\n",
    "dataset_name = 'pilot_dataset_%s' % dt_string\n",
    "shuffle = True   # if True, shuffle snippets according to seed (for test/train split)\n",
    "seed = 0;\n",
    "num_folds_cv = 5 # k-fold cross validation, number of splits (-1 = only provide full set of data)\n",
    "\n",
    "prune_start=True          # remove stationary portion of ego's trajectory at the start\n",
    "prune_end=True            # remove stationary portion of ego's trajectory at the end\n",
    "min_vel_thresh=0.01       # velocity threshold (m/s) above which ego is considered moving\n",
    "exclude_collisions=True  # return an empty trajectory if there was a collision\n",
    "\n",
    "Nhist=5          # number of timesteps of motion history to predict with\n",
    "Npred=20         # number of timesteps of prediction horizon\n",
    "Nskip=5          # \"stride\" for sliding window of snippet selection\n",
    "dt=0.1           # discretization (s) of full ego trajectory corresponding to N* above\n",
    "ego_trans = False # whether or not to represent trajectory snippets in the ego frame\n",
    "                 # if False, use the global map frame for all snippets"
   ]
  },
  {
   "cell_type": "markdown",
   "metadata": {},
   "source": [
    "### TODO\n",
    "* [ ] optional: complete outlier removal in bag_processing (see \"Additional Notes\").  Need to check time indices.\n",
    "* [ ] optional: include source pkl name for snippet to trial association"
   ]
  },
  {
   "cell_type": "code",
   "execution_count": 3,
   "metadata": {},
   "outputs": [
    {
     "name": "stdout",
     "output_type": "stream",
     "text": [
      "Found 1 files to read: ['../examples/bags/parking_p2_t2_e9_2019-11-04-16-42-32.pkl']\n"
     ]
    }
   ],
   "source": [
    "save_ext = 'pkl'\n",
    "# files_to_process = glob.glob('../examples/bags/*.%s' % save_ext)\n",
    "files_to_process = glob.glob('../examples/bags/parking_p2_t2_e9_2019-11-04-16-42-32.pkl')\n",
    "\n",
    "print('Found %d files to read: %s' % (len(files_to_process), files_to_process))"
   ]
  },
  {
   "cell_type": "code",
   "execution_count": null,
   "metadata": {},
   "outputs": [
    {
     "name": "stdout",
     "output_type": "stream",
     "text": [
      "Processing\n",
      "\n",
      "../examples/bags/parking_p2_t2_e9_2019-11-04-16-42-32.pkl\n",
      "-0.08910693640738673\n",
      "Parking\n",
      "static\n",
      "theta in gie -0.08910693640738673\n",
      "(5, 2)\n"
     ]
    },
    {
     "data": {
      "image/png": "[encoded data removed]",
      "text/plain": [
       "<Figure size 1600x1600 with 1 Axes>"
      ]
     },
     "metadata": {},
     "output_type": "display_data"
    },
    {
     "data": {
      "image/png": "[encoded data removed]",
      "text/plain": [
       "<Figure size 432x288 with 1 Axes>"
      ]
     },
     "metadata": {
      "needs_background": "light"
     },
     "output_type": "display_data"
    },
    {
     "name": "stdout",
     "output_type": "stream",
     "text": [
      "> /media/govvijay/data/carla/carla_0_9_6/PythonAPI/analysis/pkl_reader.py(251)generate_scene_image()\n",
      "-> for ego_pose in f_test:\n"
     ]
    }
   ],
   "source": [
    "print('Processing\\n')\n",
    "features_combined = []\n",
    "labels_combined = []\n",
    "goal_snippets_combined = []\n",
    "traj_index     = [0]\n",
    "\n",
    "for file in files_to_process:\n",
    "    print(file)\n",
    "    if save_ext == 'pkl':\n",
    "        res_dict = pickle.load(open(file,'rb'))\n",
    "    else:\n",
    "        raise NotImplemented('Invalid Extension')\n",
    "    \n",
    "    goals = extract_goals(res_dict)\n",
    "    parking_lot = res_dict['parking_lot']\n",
    "    ego_dimensions = res_dict['ego_dimensions']\n",
    "    static_object_list = res_dict['static_object_list']\n",
    "    \n",
    "    try:\n",
    "        ego_trajectory, start_ind, switch_ind, end_ind, goal_ind = \\\n",
    "             extract_full_trajectory(res_dict, goals, prune_start, prune_end, \\\n",
    "                                     min_vel_thresh, exclude_collisions)\n",
    "\n",
    "        features, labels, goal_snpts = \\\n",
    "            get_ego_trajectory_prediction_snippets(ego_trajectory, start_ind, switch_ind, end_ind, goal_ind, \\\n",
    "                                           goals, Nhist, Npred, Nskip, dt, ego_frame=ego_trans)\n",
    "        \n",
    "        feature_images = generate_scene_image(features, parking_lot, ego_dimensions, static_object_list)\n",
    "        \n",
    "        features_combined.extend(features)\n",
    "        labels_combined.extend(labels)\n",
    "        goal_snippets_combined.extend(goal_snpts)\n",
    "        traj_index.append(len(features) + traj_index[-1])\n",
    "        \n",
    "    except ValueError as e:\n",
    "        print(file, e)\n",
    "assert(len(features_combined) == len(labels_combined) == len(goal_snippets_combined))\n",
    "\n",
    "'''\n",
    "#     # for debugging, ensure data shuffle works.\n",
    "#     ind = -2\n",
    "#     plt.plot(features_combined[ind][:,0], features_combined[ind][:,1], 'b')\n",
    "#     plt.plot(labels_combined[ind][:,0], labels_combined[ind][:,1], 'r')\n",
    "#     for g in goal_snippets_combined[ind]:\n",
    "#         plt.plot(g[0], g[1], 'kx')\n",
    "#     plt.show()\n",
    "#     plt.plot(features_combined[ind+1][:,0], features_combined[ind+1][:,1], 'b')\n",
    "#     plt.plot(labels_combined[ind+1][:,0], labels_combined[ind+1][:,1], 'r')\n",
    "#     for g in goal_snippets_combined[ind+1]:\n",
    "#         plt.plot(g[0], g[1], 'kx')\n",
    "#     plt.show()\n",
    "N_instances = len(features_combined)\n",
    "dataset_dict = {}\n",
    "dataset_dict['features'] = features_combined\n",
    "dataset_dict['goals']  = goal_snippets_combined\n",
    "dataset_dict['labels'] = labels_combined\n",
    "dataset_dict['N'] = N_instances\n",
    "dataset_dict['traj_idx'] = traj_index[:-1]\n",
    "\n",
    "pickle.dump(dataset_dict, open(dataset_name + '.pkl', 'wb'))\n",
    "\n",
    "if shuffle:\n",
    "    features_combined, labels_combined, goal_snippets_combined = \\\n",
    "    sku.shuffle(features_combined, labels_combined, goal_snippets_combined, random_state=seed)\n",
    "\n",
    "if num_folds_cv > 0:\n",
    "    splits = (N_instances // num_folds_cv) * np.ones(num_folds_cv)\n",
    "    splits[:N_instances % num_folds_cv] += 1\n",
    "    \n",
    "    ind_limits = np.cumsum(splits).astype(np.int)\n",
    "    \n",
    "    for i in range(len(ind_limits)):\n",
    "        if i == 0:\n",
    "            ind_start = 0\n",
    "        else:\n",
    "            ind_start = ind_limits[i-1]\n",
    "        ind_end = ind_limits[i]\n",
    "        \n",
    "        dataset_kfold = {}\n",
    "        dataset_kfold['features'] = features_combined[ind_start:ind_end]\n",
    "        dataset_kfold['goals'] = goal_snippets_combined[ind_start:ind_end]\n",
    "        dataset_kfold['labels'] = labels_combined[ind_start:ind_end]\n",
    "        dataset_kfold['N'] = ind_end - ind_start\n",
    "        pickle.dump(dataset_kfold, open(dataset_name + '_fold_%d.pkl' % i, 'wb'))\n",
    "                \n",
    "print('Finished\\n')\n",
    "'''"
   ]
  },
  {
   "cell_type": "code",
   "execution_count": null,
   "metadata": {},
   "outputs": [],
   "source": []
  },
  {
   "cell_type": "code",
   "execution_count": null,
   "metadata": {},
   "outputs": [],
   "source": []
  }
 ],
 "metadata": {
  "kernelspec": {
   "display_name": "Python 3",
   "language": "python",
   "name": "python3"
  },
  "language_info": {
   "codemirror_mode": {
    "name": "ipython",
    "version": 3
   },
   "file_extension": ".py",
   "mimetype": "text/x-python",
   "name": "python",
   "nbconvert_exporter": "python",
   "pygments_lexer": "ipython3",
   "version": "3.6.9"
  }
 },
 "nbformat": 4,
 "nbformat_minor": 2
}
