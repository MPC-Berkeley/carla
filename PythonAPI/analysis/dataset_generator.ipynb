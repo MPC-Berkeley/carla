{
 "cells": [
  {
   "cell_type": "markdown",
   "metadata": {},
   "source": [
    "This notebook takes processed mat/pickle files and makes a dataset for prediction.\n",
    "In particular, given a history and prediction horizon, this generates all viable slices of a full trajectory.  This goes through all pickle files and constructs a dataset for k-fold cross validation.\n",
    "\n",
    "### TODO\n",
    "* [ ] optional: complete outlier removal in bag_processing (see \"Additional Notes\").  Need to check time indices.\n",
    "* [ ] optional: add metadata to tfrecord (e.g. snippet #, timestamp)."
   ]
  },
  {
   "cell_type": "code",
   "execution_count": 1,
   "metadata": {},
   "outputs": [
    {
     "name": "stderr",
     "output_type": "stream",
     "text": [
      "Using TensorFlow backend.\n"
     ]
    }
   ],
   "source": [
    "import glob\n",
    "import numpy as np\n",
    "import scipy.io as sio\n",
    "import pickle\n",
    "import matplotlib.pyplot as plt\n",
    "import pdb\n",
    "from datetime import datetime\n",
    "import sklearn.utils as sku\n",
    "from tqdm import tqdm\n",
    "\n",
    "from pkl_reader import *\n",
    "from tfrecord_utils import write_tfrecord, read_tfrecord"
   ]
  },
  {
   "cell_type": "code",
   "execution_count": 2,
   "metadata": {},
   "outputs": [],
   "source": [
    "''' CONFIG: CONSTANTS FOR EXECUTION '''\n",
    "num_folds_cv = 5 # k-fold cross validation, number of splits (-1 = only provide full set of data)\n",
    "\n",
    "prune_start=True          # remove stationary portion of ego's trajectory at the start\n",
    "prune_end=True            # remove stationary portion of ego's trajectory at the end\n",
    "min_vel_thresh=0.01       # velocity threshold (m/s) above which ego is considered moving\n",
    "exclude_collisions=True  # return an empty trajectory if there was a collision\n",
    "\n",
    "Nhist=5          # number of timesteps of motion history to predict with\n",
    "Npred=20         # number of timesteps of prediction horizon\n",
    "Nskip=5          # \"stride\" for sliding window of snippet selection\n",
    "dt=0.1           # discretization (s) of full ego trajectory corresponding to N* above\n",
    "ego_trans = True # whether or not to represent trajectory snippets in the ego frame\n",
    "                 # if False, use the global map frame for all snippets"
   ]
  },
  {
   "cell_type": "code",
   "execution_count": 3,
   "metadata": {},
   "outputs": [
    {
     "name": "stdout",
     "output_type": "stream",
     "text": [
      "Found 57 files to read: ['../examples/bags/parking_p2_t1_e4_2019-11-04-16-34-11.pkl', '../examples/bags/parking_p1_t1_e6_2019-11-04-14-36-57.pkl', '../examples/bags/parking_p2_t1_e5_2019-11-04-16-34-40.pkl', '../examples/bags/parking_p1_t2_e5_2019-11-04-14-43-12.pkl', '../examples/bags/parking_p3_t2_e2_2019-11-26-16-12-23.pkl', '../examples/bags/parking_p1_t1_e1_2019-11-04-14-34-58.pkl', '../examples/bags/parking_p3_t2_e4_2019-11-26-16-12-49.pkl', '../examples/bags/parking_p3_t2_e6_2019-11-26-16-13-37.pkl', '../examples/bags/parking_p1_t2_e2_2019-11-04-14-41-42.pkl', '../examples/bags/parking_p2_t1_e9_2019-11-04-16-35-54.pkl', '../examples/bags/parking_p1_t1_e5_2019-11-04-14-36-41.pkl', '../examples/bags/parking_p2_t2_e3_2019-11-04-16-39-13.pkl', '../examples/bags/parking_p2_t1_e8_2019-11-04-16-35-33.pkl', '../examples/bags/parking_p3_t1_e0_2019-11-26-15-45-03.pkl', '../examples/bags/parking_p3_t2_e7_2019-11-26-16-13-59.pkl', '../examples/bags/parking_p2_t1_e1_2019-11-04-16-33-19.pkl', '../examples/bags/parking_p2_t2_e2_2019-11-04-16-38-43.pkl', '../examples/bags/parking_p3_t2_e8_2019-11-26-16-14-26.pkl', '../examples/bags/parking_p2_t1_e7_2019-11-04-16-35-13.pkl', '../examples/bags/parking_p1_t2_e9_2019-11-04-14-45-27.pkl', '../examples/bags/parking_p2_t2_e0_2019-11-04-16-36-50.pkl', '../examples/bags/parking_p3_t2_e5_2019-11-26-16-13-17.pkl', '../examples/bags/parking_p2_t2_e9_2019-11-04-16-42-32.pkl', '../examples/bags/parking_p2_t2_e5_2019-11-04-16-40-13.pkl', '../examples/bags/parking_p2_t1_e6_2019-11-04-16-34-57.pkl', '../examples/bags/parking_p1_t1_e3_2019-11-04-14-35-59.pkl', '../examples/bags/parking_p2_t1_e2_2019-11-04-16-33-34.pkl', '../examples/bags/parking_p3_t2_e1_2019-11-26-16-11-56.pkl', '../examples/bags/parking_p3_t1_e1_2019-11-26-15-45-22.pkl', '../examples/bags/parking_p1_t2_e4_2019-11-04-14-42-44.pkl', '../examples/bags/parking_p1_t1_e8_2019-11-04-14-37-56.pkl', '../examples/bags/parking_p3_t2_e0_2019-11-26-16-11-31.pkl', '../examples/bags/parking_p1_t2_e6_2019-11-04-14-43-44.pkl', '../examples/bags/parking_p1_t2_e7_2019-11-04-14-44-19.pkl', '../examples/bags/parking_p3_t1_e6_2019-11-26-15-47-03.pkl', '../examples/bags/parking_p1_t2_e8_2019-11-04-14-44-50.pkl', '../examples/bags/parking_p1_t1_e4_2019-11-04-14-36-16.pkl', '../examples/bags/parking_p2_t2_e4_2019-11-04-16-39-45.pkl', '../examples/bags/parking_p1_t1_e9_2019-11-04-14-38-23.pkl', '../examples/bags/parking_p1_t2_e0_2019-11-04-14-40-20.pkl', '../examples/bags/parking_p3_t1_e2_2019-11-26-15-45-40.pkl', '../examples/bags/parking_p3_t1_e3_2019-11-26-15-45-59.pkl', '../examples/bags/parking_p3_t1_e7_2019-11-26-15-47-20.pkl', '../examples/bags/parking_p1_t2_e1_2019-11-04-14-40-57.pkl', '../examples/bags/parking_p3_t1_e9_2019-11-26-15-48-06.pkl', '../examples/bags/parking_p2_t2_e8_2019-11-04-16-41-53.pkl', '../examples/bags/parking_p3_t1_e8_2019-11-26-15-47-41.pkl', '../examples/bags/parking_p2_t2_e6_2019-11-04-16-40-49.pkl', '../examples/bags/parking_p2_t1_e0_2019-11-04-16-32-53.pkl', '../examples/bags/parking_p2_t2_e1_2019-11-04-16-37-56.pkl', '../examples/bags/parking_p3_t1_e4_2019-11-26-15-46-23.pkl', '../examples/bags/parking_p1_t1_e7_2019-11-04-14-37-31.pkl', '../examples/bags/parking_p3_t2_e9_2019-11-26-16-14-52.pkl', '../examples/bags/parking_p2_t2_e7_2019-11-04-16-41-19.pkl', '../examples/bags/parking_p2_t1_e3_2019-11-04-16-33-55.pkl', '../examples/bags/parking_p3_t1_e5_2019-11-26-15-46-37.pkl', '../examples/bags/parking_p1_t1_e0_2019-11-04-14-34-23.pkl']\n"
     ]
    }
   ],
   "source": [
    "save_ext = 'pkl'\n",
    "file_prefix = '../examples/bags/'\n",
    "search_str = file_prefix + '*.' + save_ext \n",
    "files_to_process = glob.glob(search_str)\n",
    "print('Found %d files to read: %s' % (len(files_to_process), files_to_process))"
   ]
  },
  {
   "cell_type": "code",
   "execution_count": 4,
   "metadata": {
    "scrolled": true
   },
   "outputs": [
    {
     "name": "stderr",
     "output_type": "stream",
     "text": [
      " 37%|███▋      | 21/57 [00:18<00:35,  1.01it/s]"
     ]
    },
    {
     "name": "stdout",
     "output_type": "stream",
     "text": [
      "Collisions encountered: \n",
      "time 1218.723575582\n",
      "other_id 868 vehicle.ford.mustang_autopilot\n",
      "normal_impulse [-301.71484375, -1832.911865234375, 34.343990325927734]\n",
      "time 1218.823575587\n",
      "other_id 868 vehicle.ford.mustang_autopilot\n",
      "normal_impulse [-42.54573059082031, -468.8822937011719, 8.161503791809082]\n",
      "../examples/bags/parking_p2_t2_e0_2019-11-04-16-36-50.pkl Collision encountered, so skipping this instance.\n"
     ]
    },
    {
     "name": "stderr",
     "output_type": "stream",
     "text": [
      " 63%|██████▎   | 36/57 [00:29<00:14,  1.46it/s]"
     ]
    },
    {
     "name": "stdout",
     "output_type": "stream",
     "text": [
      "Collisions encountered: \n",
      "time 2292.091427611\n",
      "other_id 1367 vehicle.chevrolet.impala_autopilot\n",
      "normal_impulse [2206.912353515625, -4.1921868324279785, -11.82215404510498]\n",
      "time 2292.091427611\n",
      "other_id 1367 vehicle.chevrolet.impala_autopilot\n",
      "normal_impulse [285.27642822265625, -0.5919407606124878, -2.3527565002441406]\n",
      "time 2292.158094281\n",
      "other_id 1367 vehicle.chevrolet.impala_autopilot\n",
      "normal_impulse [337.15869140625, -0.7436597347259521, -3.806938886642456]\n",
      "time 2292.191427616\n",
      "other_id 1367 vehicle.chevrolet.impala_autopilot\n",
      "normal_impulse [344.3897705078125, -0.759609043598175, -3.8885862827301025]\n",
      "time 2292.224760951\n",
      "other_id 1367 vehicle.chevrolet.impala_autopilot\n",
      "normal_impulse [343.02374267578125, -0.756596028804779, -3.873162031173706]\n",
      "time 2292.291427621\n",
      "other_id 1367 vehicle.chevrolet.impala_autopilot\n",
      "normal_impulse [324.8485412597656, -0.7165075540542603, -3.6679418087005615]\n",
      "time 2292.424760961\n",
      "other_id 1367 vehicle.chevrolet.impala_autopilot\n",
      "normal_impulse [292.2283020019531, -0.6445582509040833, -3.29961895942688]\n",
      "time 2292.524760967\n",
      "other_id 1367 vehicle.chevrolet.impala_autopilot\n",
      "normal_impulse [261.5941467285156, -0.576989471912384, -2.953721284866333]\n",
      "time 2292.591427637\n",
      "other_id 1367 vehicle.chevrolet.impala_autopilot\n",
      "normal_impulse [243.59585571289062, -0.5372912883758545, -2.7504985332489014]\n",
      "time 2292.591427637\n",
      "other_id 1367 vehicle.chevrolet.impala_autopilot\n",
      "normal_impulse [239.616943359375, -0.5285151600837708, -2.7055718898773193]\n",
      "time 2292.624760972\n",
      "other_id 1367 vehicle.chevrolet.impala_autopilot\n",
      "normal_impulse [312.6564636230469, -0.6896159052848816, -3.530278205871582]\n",
      "time 2292.724760977\n",
      "other_id 1367 vehicle.chevrolet.impala_autopilot\n",
      "normal_impulse [400.03662109375, -0.8823474645614624, -4.516908645629883]\n",
      "time 2292.791427647\n",
      "other_id 1367 vehicle.chevrolet.impala_autopilot\n",
      "normal_impulse [403.05474853515625, -1.385154366493225, -4.058713436126709]\n",
      "time 2292.791427647\n",
      "other_id 1367 vehicle.chevrolet.impala_autopilot\n",
      "normal_impulse [367.86846923828125, -1.26423180103302, -3.7043914794921875]\n",
      "time 2292.858094317\n",
      "other_id 1367 vehicle.chevrolet.impala_autopilot\n",
      "normal_impulse [298.61859130859375, -1.0262447595596313, -3.007053852081299]\n",
      "time 2292.891427652\n",
      "other_id 1367 vehicle.chevrolet.impala_autopilot\n",
      "normal_impulse [246.9237823486328, -0.8485882878303528, -2.4864931106567383]\n",
      "time 2292.924760987\n",
      "other_id 1367 vehicle.chevrolet.impala_autopilot\n",
      "normal_impulse [204.8716583251953, -0.7040702700614929, -2.063033103942871]\n",
      "time 2293.024760993\n",
      "other_id 1367 vehicle.chevrolet.impala_autopilot\n",
      "normal_impulse [101.76576232910156, -0.34973233938217163, -1.0247690677642822]\n",
      "time 2293.058094328\n",
      "other_id 1367 vehicle.chevrolet.impala_autopilot\n",
      "normal_impulse [72.973388671875, -0.2507833242416382, -0.7348333597183228]\n",
      "time 2293.158094333\n",
      "other_id 1367 vehicle.chevrolet.impala_autopilot\n",
      "normal_impulse [79.7044448852539, -0.273915559053421, -0.8026142716407776]\n",
      "time 2293.158094333\n",
      "other_id 1367 vehicle.chevrolet.impala_autopilot\n",
      "normal_impulse [69.13697814941406, -0.2376181036233902, -0.7133941650390625]\n",
      "time 2293.258094338\n",
      "other_id 1367 vehicle.chevrolet.impala_autopilot\n",
      "normal_impulse [42.96198272705078, -0.14765678346157074, -0.4433058798313141]\n",
      "time 2293.258094338\n",
      "other_id 1367 vehicle.chevrolet.impala_autopilot\n",
      "normal_impulse [32.72447967529297, -0.11247134953737259, -0.3376695513725281]\n",
      "time 2293.358094343\n",
      "other_id 1367 vehicle.chevrolet.impala_autopilot\n",
      "normal_impulse [32.49912643432617, -0.11169682443141937, -0.33534422516822815]\n",
      "time 2293.424761014\n",
      "other_id 1367 vehicle.chevrolet.impala_autopilot\n",
      "normal_impulse [32.987205505371094, -0.11337432265281677, -0.34038054943084717]\n",
      "time 2293.424761014\n",
      "other_id 1367 vehicle.chevrolet.impala_autopilot\n",
      "normal_impulse [45.37841796875, -0.15596188604831696, -0.46824005246162415]\n",
      "time 2293.558094354\n",
      "other_id 1367 vehicle.chevrolet.impala_autopilot\n",
      "normal_impulse [78.11190032958984, -0.26846420764923096, -0.8060025572776794]\n",
      "time 2293.591427689\n",
      "other_id 1367 vehicle.chevrolet.impala_autopilot\n",
      "normal_impulse [79.48273468017578, -0.2731756269931793, -0.8201475143432617]\n",
      "time 2293.624761024\n",
      "other_id 1367 vehicle.chevrolet.impala_autopilot\n",
      "normal_impulse [69.11988067626953, -0.24115779995918274, -0.6987836956977844]\n",
      "time 2293.724761029\n",
      "other_id 1367 vehicle.chevrolet.impala_autopilot\n",
      "normal_impulse [35.484615325927734, -0.12380508333444595, -0.35874006152153015]\n",
      "../examples/bags/parking_p1_t2_e8_2019-11-04-14-44-50.pkl Collision encountered, so skipping this instance.\n"
     ]
    },
    {
     "name": "stderr",
     "output_type": "stream",
     "text": [
      " 68%|██████▊   | 39/57 [00:31<00:10,  1.73it/s]"
     ]
    },
    {
     "name": "stdout",
     "output_type": "stream",
     "text": [
      "Collisions encountered: \n",
      "time 428.591330422\n",
      "other_id 796 vehicle.nissan.patrol_autopilot\n",
      "normal_impulse [48.102664947509766, 38.11619567871094, -0.8094014525413513]\n",
      "time 428.691330427\n",
      "other_id 796 vehicle.nissan.patrol_autopilot\n",
      "normal_impulse [46.12480545043945, 36.548954010009766, -0.7761209011077881]\n",
      "time 428.724663762\n",
      "other_id 796 vehicle.nissan.patrol_autopilot\n",
      "normal_impulse [47.58728790283203, 37.70781707763672, -0.800729513168335]\n",
      "time 428.791330432\n",
      "other_id 796 vehicle.nissan.patrol_autopilot\n",
      "normal_impulse [20.486284255981445, 16.233179092407227, -0.3447132706642151]\n",
      "time 428.791330432\n",
      "other_id 796 vehicle.nissan.patrol_autopilot\n",
      "normal_impulse [17.838239669799805, 14.134889602661133, -0.3001558780670166]\n",
      "time 428.824663767\n",
      "other_id 796 vehicle.nissan.patrol_autopilot\n",
      "normal_impulse [38.68595504760742, 30.65446662902832, -0.6509508490562439]\n",
      "time 428.957997107\n",
      "other_id 796 vehicle.nissan.patrol_autopilot\n",
      "normal_impulse [45.07197952270508, 35.71470260620117, -0.7584055066108704]\n",
      "time 428.991330442\n",
      "other_id 796 vehicle.nissan.patrol_autopilot\n",
      "normal_impulse [46.8889045715332, 37.1544189453125, -0.7889780402183533]\n",
      "time 428.991330442\n",
      "other_id 796 vehicle.nissan.patrol_autopilot\n",
      "normal_impulse [46.49700927734375, 36.84388732910156, -0.7823838591575623]\n",
      "time 429.057997113\n",
      "other_id 796 vehicle.nissan.patrol_autopilot\n",
      "normal_impulse [44.209434509277344, 35.031227111816406, -0.7438918352127075]\n",
      "time 429.157997118\n",
      "other_id 796 vehicle.nissan.patrol_autopilot\n",
      "normal_impulse [45.78559112548828, 36.2801628112793, -0.7704131007194519]\n",
      "time 429.224663788\n",
      "other_id 796 vehicle.nissan.patrol_autopilot\n",
      "normal_impulse [31.945768356323242, 25.31359100341797, -0.5375367999076843]\n",
      "time 429.291330458\n",
      "other_id 796 vehicle.nissan.patrol_autopilot\n",
      "normal_impulse [45.03396224975586, 35.6845817565918, -0.7577658891677856]\n",
      "time 429.424663798\n",
      "other_id 796 vehicle.nissan.patrol_autopilot\n",
      "normal_impulse [45.75299072265625, 36.25433349609375, -0.7698646187782288]\n",
      "time 429.491330469\n",
      "other_id 796 vehicle.nissan.patrol_autopilot\n",
      "normal_impulse [45.883338928222656, 36.35762023925781, -0.7720579504966736]\n",
      "time 429.591330474\n",
      "other_id 796 vehicle.nissan.patrol_autopilot\n",
      "normal_impulse [44.84705352783203, 35.536476135253906, -0.7546207904815674]\n",
      "time 429.691330479\n",
      "other_id 796 vehicle.nissan.patrol_autopilot\n",
      "normal_impulse [40.67661666870117, 32.23185348510742, -0.6844467520713806]\n",
      "time 429.757997149\n",
      "other_id 796 vehicle.nissan.patrol_autopilot\n",
      "normal_impulse [43.08393096923828, 34.13938522338867, -0.7249535322189331]\n",
      "time 429.757997149\n",
      "other_id 796 vehicle.nissan.patrol_autopilot\n",
      "normal_impulse [44.67526626586914, 35.40035629272461, -0.7517302632331848]\n",
      "time 429.824663819\n",
      "other_id 796 vehicle.nissan.patrol_autopilot\n",
      "normal_impulse [47.85163879394531, 37.91728973388672, -0.8051775693893433]\n",
      "../examples/bags/parking_p1_t1_e9_2019-11-04-14-38-23.pkl Collision encountered, so skipping this instance.\n"
     ]
    },
    {
     "name": "stderr",
     "output_type": "stream",
     "text": [
      "100%|██████████| 57/57 [00:47<00:00,  1.19it/s]"
     ]
    },
    {
     "name": "stdout",
     "output_type": "stream",
     "text": [
      "54  tfrecord files were written.\n"
     ]
    },
    {
     "name": "stderr",
     "output_type": "stream",
     "text": [
      "\n"
     ]
    }
   ],
   "source": [
    "num_tfrecords = 0\n",
    "for file in tqdm(files_to_process):\n",
    "    if save_ext == 'pkl':\n",
    "        res_dict = pickle.load(open(file,'rb'))\n",
    "    else:\n",
    "        raise NotImplemented('Invalid Extension')\n",
    "    \n",
    "    goals = extract_goals(res_dict)\n",
    "    parking_lot = res_dict['parking_lot']\n",
    "    ego_dimensions = res_dict['ego_dimensions']\n",
    "    static_object_list = res_dict['static_object_list']\n",
    "    \n",
    "    try:\n",
    "        ego_trajectory, start_ind, switch_ind, end_ind, goal_ind = \\\n",
    "             extract_full_trajectory(res_dict, goals, prune_start, prune_end, \\\n",
    "                                     min_vel_thresh, exclude_collisions)\n",
    "\n",
    "        features, scene_images, labels, goal_snpts = \\\n",
    "            get_ego_trajectory_prediction_snippets(ego_trajectory, start_ind, switch_ind, end_ind, goal_ind, \\\n",
    "                                           goals, parking_lot, ego_dimensions, static_object_list, \\\n",
    "                                           Nhist, Npred, Nskip, dt, ego_frame=ego_trans)\n",
    "        \n",
    "        '''\n",
    "        # For visualization/debugging: see the first snippet of data.\n",
    "        plt.figure(figsize=(10, 10), dpi=160, facecolor='w', edgecolor='k')\n",
    "        for i in range(Nhist):\n",
    "            plt.subplot(1, Nhist, i+1)\n",
    "            plt.imshow(scene_images[0, i, :, :, :])\n",
    "        plt.tight_layout()\n",
    "        plt.show()\n",
    "        '''\n",
    "\n",
    "        file_location = file_prefix + file.split('/')[-1].split('.')[0] + '.tfrecord'\n",
    "        write_tfrecord(features, scene_images, labels, goal_snpts, file_location, {})\n",
    "        \n",
    "        '''\n",
    "        # For debugging: see an arbitrary snippet from the generated tfrecord.\n",
    "        image, feature, label, goal, count = read_tfrecord([file_location])\n",
    "        \n",
    "        plt.figure(figsize=(10, 10), dpi=160, facecolor='w', edgecolor='k')\n",
    "        for i in range(Nhist):\n",
    "            plt.subplot(1, Nhist, i+1)\n",
    "            plt.imshow(image.numpy()[0, i, :, :, :])\n",
    "        plt.tight_layout()\n",
    "        plt.show()\n",
    "        '''\n",
    "        num_tfrecords += 1\n",
    "                \n",
    "    except ValueError as e:\n",
    "        print(file, e)\n",
    "        \n",
    "print(num_tfrecords, ' tfrecord files were written.')\n",
    "    "
   ]
  },
  {
   "cell_type": "code",
   "execution_count": null,
   "metadata": {},
   "outputs": [],
   "source": []
  }
 ],
 "metadata": {
  "kernelspec": {
   "display_name": "Python 3",
   "language": "python",
   "name": "python3"
  },
  "language_info": {
   "codemirror_mode": {
    "name": "ipython",
    "version": 3
   },
   "file_extension": ".py",
   "mimetype": "text/x-python",
   "name": "python",
   "nbconvert_exporter": "python",
   "pygments_lexer": "ipython3",
   "version": "3.6.9"
  }
 },
 "nbformat": 4,
 "nbformat_minor": 2
}
