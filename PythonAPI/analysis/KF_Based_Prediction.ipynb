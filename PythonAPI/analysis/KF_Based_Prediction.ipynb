{
 "cells": [
  {
   "cell_type": "code",
   "execution_count": 1,
   "metadata": {},
   "outputs": [],
   "source": [
    "# pip install filterpy, https://buildmedia.readthedocs.org/media/pdf/filterpy/latest/filterpy.pdf\n",
    "import filterpy as fp\n",
    "import numpy as np\n",
    "import scipy as sp\n",
    "import matplotlib.pyplot as plt\n",
    "import pickle as pkl\n",
    "\n",
    "from filterpy.kalman import MerweScaledSigmaPoints\n",
    "from filterpy.kalman import UnscentedKalmanFilter as UKF"
   ]
  },
  {
   "cell_type": "code",
   "execution_count": 2,
   "metadata": {},
   "outputs": [],
   "source": [
    "# Dynamics and Measurement Model Definition\n",
    "nx = 5\n",
    "nz = 3\n",
    "dt = 0.01\n",
    "\n",
    "def normalize_angle(ang):\n",
    "    while ang >= 2 * np.pi:\n",
    "        ang -= 2 * np.pi\n",
    "    while ang <= - 2 * np.pi:\n",
    "        ang += 2 * np.pi\n",
    "    assert(ang >= -np.pi and ang <= np.pi)\n",
    "    return ang\n",
    "\n",
    "def f_cv(z, dt):\n",
    "    z_new = np.zeros(nx)\n",
    "    z_new[0] = z[0] + z[3] * np.cos(z[2]) * dt  #x\n",
    "    z_new[1] = z[1] + z[3] * np.sin(z[2]) * dt  #y\n",
    "    z_new[2] = z[2] + z[4] * dt                 #theta\n",
    "    z_new[3] = z[3]                             #v\n",
    "    z_new[4] = z[4]                             #omega\n",
    "    return z_new\n",
    "        \n",
    "def h_cv(z):\n",
    "    return [z[0], z[1], normalize_angle(z[2])] "
   ]
  },
  {
   "cell_type": "code",
   "execution_count": 3,
   "metadata": {},
   "outputs": [],
   "source": [
    "# Modified from https://github.com/rlabbe/filterpy/blob/master/filterpy/kalman/UKF.py\n",
    "def state_mean(sigmas, Wm):\n",
    "    assert(sigmas.shape[1] == nx)\n",
    "    x = np.zeros(nx)\n",
    "\n",
    "    sum_sin = np.sum(np.dot(np.sin(sigmas[:, 2]), Wm))\n",
    "    sum_cos = np.sum(np.dot(np.cos(sigmas[:, 2]), Wm))\n",
    "    for i in range(nx):\n",
    "        if i is 2:\n",
    "            x[i] = np.atan2(sum_sin, sum_cos)       # angle weighted avg\n",
    "        else:\n",
    "            x[i] = np.sum(np.dot(sigmas[:, i], Wm)) # normal weighted avg\n",
    "    return x\n",
    "\n",
    "def z_mean(sigmas, Wm):\n",
    "    assert(sigmas.shape[1] == nz)\n",
    "    z = np.zeros(nz)\n",
    "\n",
    "    sum_sin = np.sum(np.dot(np.sin(sigmas[:, 2]), Wm))\n",
    "    sum_cos = np.sum(np.dot(np.cos(sigmas[:, 2]), Wm))\n",
    "    for i in range(nz):\n",
    "        if i is 2:\n",
    "            z[i] = np.atan2(sum_sin, sum_cos)\n",
    "        else:\n",
    "            z[i] = np.sum(np.dot(sigmas[:,i], Wm))\n",
    "    return z\n",
    "\n",
    "def residual_x_z(a, b):\n",
    "    y = a - b\n",
    "    y[2] = normalize_angle(y[2])\n",
    "    return y"
   ]
  },
  {
   "cell_type": "code",
   "execution_count": 4,
   "metadata": {},
   "outputs": [],
   "source": [
    "points = MerweScaledSigmaPoints(n=3, alpha=.00001, beta=2, kappa=0, \n",
    "                                    subtract=residual_x_z)\n",
    "ukf = UKF(dim_x=nx, dim_z=nz, fx=f_cv, hx=h_cv,\n",
    "          dt=dt, points=points, x_mean_fn=state_mean, \n",
    "          z_mean_fn=z_mean, residual_x=residual_x_z, \n",
    "          residual_z=residual_x_z)\n",
    "\n",
    "# initial state and covariance estimate\n",
    "ukf.x = np.array([0., 0., -np.pi/2., 1.0, 0.0])\n",
    "ukf.P = np.eye(nx)\n",
    "\n",
    "# process noise\n",
    "ukf.Q = np.diag([1e-3, 1e-3, 1e-3, 1., 1.])\n",
    "\n",
    "# measurement noise\n",
    "ukf.R = np.diag([1e-3, 1e-3, 1e-3])\n"
   ]
  },
  {
   "cell_type": "code",
   "execution_count": null,
   "metadata": {},
   "outputs": [],
   "source": [
    "# TODO: load in data from the rosbag\n",
    "# initial position set based on spawn location\n",
    "# just run this one step at a time and compare to real trajectory\n",
    "# add prediction component\n",
    "# IMM formulation"
   ]
  }
 ],
 "metadata": {
  "kernelspec": {
   "display_name": "Python 3",
   "language": "python",
   "name": "python3"
  },
  "language_info": {
   "codemirror_mode": {
    "name": "ipython",
    "version": 3
   },
   "file_extension": ".py",
   "mimetype": "text/x-python",
   "name": "python",
   "nbconvert_exporter": "python",
   "pygments_lexer": "ipython3",
   "version": "3.6.9"
  }
 },
 "nbformat": 4,
 "nbformat_minor": 2
}
