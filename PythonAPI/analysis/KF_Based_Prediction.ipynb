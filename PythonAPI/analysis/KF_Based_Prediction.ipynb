{
 "cells": [
  {
   "cell_type": "code",
   "execution_count": 1,
   "metadata": {},
   "outputs": [],
   "source": [
    "# pip install filterpy, https://buildmedia.readthedocs.org/media/pdf/filterpy/latest/filterpy.pdf\n",
    "import filterpy as fp\n",
    "import numpy as np\n",
    "import scipy as sp\n",
    "import matplotlib.pyplot as plt\n",
    "import pickle as pkl\n",
    "\n",
    "from filterpy.kalman import MerweScaledSigmaPoints\n",
    "from filterpy.kalman import UnscentedKalmanFilter as UKF\n",
    "\n",
    "import pdb"
   ]
  },
  {
   "cell_type": "code",
   "execution_count": 2,
   "metadata": {},
   "outputs": [
    {
     "name": "stderr",
     "output_type": "stream",
     "text": [
      "<>:11: SyntaxWarning: assertion is always true, perhaps remove parentheses?\n",
      "<>:11: SyntaxWarning: assertion is always true, perhaps remove parentheses?\n",
      "<>:11: SyntaxWarning: assertion is always true, perhaps remove parentheses?\n",
      "<ipython-input-2-23ebe43c7e8a>:11: SyntaxWarning: assertion is always true, perhaps remove parentheses?\n",
      "  assert(ang >= -np.pi and ang <= np.pi, 'ang: %f' % ang)\n"
     ]
    }
   ],
   "source": [
    "# Dynamics and Measurement Model Definition\n",
    "nx = 5\n",
    "nz = 3\n",
    "dt = 0.01\n",
    "\n",
    "def normalize_angle(ang):\n",
    "    while ang >= 2 * np.pi:\n",
    "        ang -= 2 * np.pi\n",
    "    while ang <= - 2 * np.pi:\n",
    "        ang += 2 * np.pi\n",
    "    assert(ang >= -np.pi and ang <= np.pi, 'ang: %f' % ang)\n",
    "    return ang\n",
    "\n",
    "def f_cv(z, dt):\n",
    "    z_new = np.zeros(nx)\n",
    "    z_new[0] = z[0] + z[3] * np.cos(z[2]) * dt  #x\n",
    "    z_new[1] = z[1] + z[3] * np.sin(z[2]) * dt  #y\n",
    "    z_new[2] = z[2] + z[4] * dt                 #theta\n",
    "    z_new[3] = z[3]                             #v\n",
    "    z_new[4] = z[4]                             #omega\n",
    "    return z_new\n",
    "        \n",
    "def h_cv(z):\n",
    "    return [z[0], z[1], normalize_angle(z[2])] "
   ]
  },
  {
   "cell_type": "code",
   "execution_count": 3,
   "metadata": {},
   "outputs": [],
   "source": [
    "# Modified from https://github.com/rlabbe/filterpy/blob/master/filterpy/kalman/UKF.py\n",
    "def state_mean(sigmas, Wm):\n",
    "    assert(sigmas.shape[1] == nx)\n",
    "    x = np.zeros(nx)\n",
    "\n",
    "    sum_sin = np.sum(np.dot(np.sin(sigmas[:, 2]), Wm))\n",
    "    sum_cos = np.sum(np.dot(np.cos(sigmas[:, 2]), Wm))\n",
    "    for i in range(nx):\n",
    "        if i is 2:\n",
    "            x[i] = np.arctan2(sum_sin, sum_cos)       # angle weighted avg\n",
    "        else:\n",
    "            x[i] = np.sum(np.dot(sigmas[:, i], Wm)) # normal weighted avg\n",
    "    return x\n",
    "\n",
    "def z_mean(sigmas, Wm):\n",
    "    assert(sigmas.shape[1] == nz)\n",
    "    z = np.zeros(nz)\n",
    "\n",
    "    sum_sin = np.sum(np.dot(np.sin(sigmas[:, 2]), Wm))\n",
    "    sum_cos = np.sum(np.dot(np.cos(sigmas[:, 2]), Wm))\n",
    "    for i in range(nz):\n",
    "        if i is 2:\n",
    "            z[i] = np.arctan2(sum_sin, sum_cos)\n",
    "        else:\n",
    "            z[i] = np.sum(np.dot(sigmas[:,i], Wm))\n",
    "    return z\n",
    "\n",
    "def residual_x_z(a, b):\n",
    "    y = a - b\n",
    "    y[2] = normalize_angle(y[2])\n",
    "    return y"
   ]
  },
  {
   "cell_type": "code",
   "execution_count": 4,
   "metadata": {},
   "outputs": [],
   "source": [
    "points = MerweScaledSigmaPoints(n=nx, alpha=.00001, beta=2, kappa=0, \n",
    "                                    subtract=residual_x_z)\n",
    "ukf = UKF(dim_x=nx, dim_z=nz, fx=f_cv, hx=h_cv,\n",
    "          dt=dt, points=points, x_mean_fn=state_mean, \n",
    "          z_mean_fn=z_mean, residual_x=residual_x_z, \n",
    "          residual_z=residual_x_z)\n",
    "\n",
    "# initial state and covariance estimate\n",
    "ukf.x = np.array([0., 0., 0.0, 0.0, 0.0])\n",
    "ukf.P = np.eye(nx)\n",
    "\n",
    "# process noise\n",
    "ukf.Q = np.diag([1e-3, 1e-3, 1e-3, 0.1, 0.1])\n",
    "\n",
    "# measurement noise\n",
    "ukf.R = np.diag([1e-3, 1e-3, 1e-3])\n"
   ]
  },
  {
   "cell_type": "code",
   "execution_count": 5,
   "metadata": {},
   "outputs": [],
   "source": [
    "# TODO: load in data from the rosbag\n",
    "# initial position set based on spawn location\n",
    "# just run this one step at a time and compare to real trajectory\n",
    "# add prediction component\n",
    "# IMM formulation"
   ]
  },
  {
   "cell_type": "code",
   "execution_count": 6,
   "metadata": {},
   "outputs": [],
   "source": [
    "# Dubin's car example\n",
    "dubins_traj = [[0., 0., 0., 10., 0.01]]\n",
    "for i in range(50):\n",
    "    dubins_traj.append( f_cv(dubins_traj[-1], dt) )\n",
    "for i in range(50):\n",
    "    if i == 0:\n",
    "        dubins_traj[-1][4] = -0.01\n",
    "    dubins_traj.append( f_cv(dubins_traj[-1], dt) )\n",
    "for i in range(50):\n",
    "    if i == 0:\n",
    "        dubins_traj[-1][4] = 0.\n",
    "    dubins_traj.append( f_cv(dubins_traj[-1], dt) )\n",
    "    \n",
    "dubins_traj = np.array(dubins_traj)\n",
    "    \n",
    "    "
   ]
  },
  {
   "cell_type": "code",
   "execution_count": 7,
   "metadata": {},
   "outputs": [
    {
     "data": {
      "text/plain": [
       "[<matplotlib.lines.Line2D at 0x7fb2b6cf0eb8>]"
      ]
     },
     "execution_count": 7,
     "metadata": {},
     "output_type": "execute_result"
    },
    {
     "data": {
      "image/png": "[encoded data removed]",
      "text/plain": [
       "<Figure size 432x288 with 1 Axes>"
      ]
     },
     "metadata": {
      "needs_background": "light"
     },
     "output_type": "display_data"
    }
   ],
   "source": [
    "import matplotlib.pyplot as plt\n",
    "\n",
    "plt.plot(dubins_traj[:,0], dubins_traj[:,1])"
   ]
  },
  {
   "cell_type": "code",
   "execution_count": 8,
   "metadata": {},
   "outputs": [
    {
     "data": {
      "text/plain": [
       "Text(0.5, 1.0, 'Angular Velocity')"
      ]
     },
     "execution_count": 8,
     "metadata": {},
     "output_type": "execute_result"
    },
    {
     "data": {
      "image/png": "[encoded data removed]",
      "text/plain": [
       "<Figure size 432x288 with 1 Axes>"
      ]
     },
     "metadata": {
      "needs_background": "light"
     },
     "output_type": "display_data"
    },
    {
     "data": {
      "image/png": "[encoded data removed]",
      "text/plain": [
       "<Figure size 432x288 with 1 Axes>"
      ]
     },
     "metadata": {
      "needs_background": "light"
     },
     "output_type": "display_data"
    },
    {
     "data": {
      "image/png": "[encoded data removed]",
      "text/plain": [
       "<Figure size 432x288 with 1 Axes>"
      ]
     },
     "metadata": {
      "needs_background": "light"
     },
     "output_type": "display_data"
    },
    {
     "data": {
      "image/png": "[encoded data removed]",
      "text/plain": [
       "<Figure size 432x288 with 1 Axes>"
      ]
     },
     "metadata": {
      "needs_background": "light"
     },
     "output_type": "display_data"
    }
   ],
   "source": [
    "np.set_printoptions(precision=2)\n",
    "xfilt = []; xfiltstd = []\n",
    "ukf.x[:3] = dubins_traj[0,:3]\n",
    "for i in range(len(dubins_traj)):\n",
    "    ukf.predict()\n",
    "    ukf.sigmas_f = ukf.points_fn.sigma_points(ukf.x, ukf.P) # see https://github.com/rlabbe/filterpy/issues/172\n",
    "    ukf.update(dubins_traj[i,:3])\n",
    "    xfilt.append(ukf.x.copy())\n",
    "    xfiltstd.append(np.sqrt(np.diag(ukf.P)))\n",
    "    \n",
    "# xpred = []\n",
    "# for i in range(50):\n",
    "#     ukf.predict()\n",
    "#     xpred.append(ukf.x.copy())\n",
    "\n",
    "xfilt = np.array(xfilt)\n",
    "xfiltstd = np.array(xfiltstd)\n",
    "\n",
    "#pdb.set_trace()\n",
    "# xpred = np.array(xpred)\n",
    "\n",
    "plt.figure()\n",
    "plt.plot(xfilt[:,0], xfilt[:,1], 'r.')\n",
    "#plt.plot(xpred[:,0], xpred[:,1], 'c')\n",
    "plt.plot(dubins_traj[:,0], dubins_traj[:,1], 'k')\n",
    "\n",
    "plt.title('Position: X vx Y')\n",
    "\n",
    "plt.figure()\n",
    "plt.plot(xfilt[:,2], 'r.')\n",
    "below = xfilt[:,2] - xfiltstd[:,2]\n",
    "above = xfilt[:,2] + xfiltstd[:,2]\n",
    "plt.fill_between(np.arange(xfilt.shape[0]), below, above, color='r', alpha=0.5)\n",
    "#plt.plot(xpred[:,2], 'c')\n",
    "plt.plot(dubins_traj[:,2], 'k')\n",
    "plt.title(\"Heading\")\n",
    "\n",
    "plt.figure()\n",
    "plt.plot(xfilt[:,3], 'r.')\n",
    "below = xfilt[:,3] - xfiltstd[:,3]\n",
    "above = xfilt[:,3] + xfiltstd[:,3]\n",
    "plt.fill_between(np.arange(xfilt.shape[0]), below, above, color='r', alpha=0.5)\n",
    "#plt.plot(xpred[:,3], 'c')\n",
    "plt.plot(dubins_traj[:,3], 'k')\n",
    "plt.title(\"Velocity\")\n",
    "\n",
    "plt.figure()\n",
    "plt.plot(xfilt[:,4], 'r.')\n",
    "below = xfilt[:,4] - xfiltstd[:,4]\n",
    "above = xfilt[:,4] + xfiltstd[:,4]\n",
    "plt.fill_between(np.arange(xfilt.shape[0]), below, above, color='r', alpha=0.5)\n",
    "#plt.plot(xpred[:,4], 'c')\n",
    "plt.plot(dubins_traj[:,4], 'k')\n",
    "plt.title(\"Angular Velocity\")\n",
    "\n"
   ]
  },
  {
   "cell_type": "code",
   "execution_count": null,
   "metadata": {},
   "outputs": [],
   "source": []
  }
 ],
 "metadata": {
  "kernelspec": {
   "display_name": "Python 3",
   "language": "python",
   "name": "python3"
  },
  "language_info": {
   "codemirror_mode": {
    "name": "ipython",
    "version": 3
   },
   "file_extension": ".py",
   "mimetype": "text/x-python",
   "name": "python",
   "nbconvert_exporter": "python",
   "pygments_lexer": "ipython3",
   "version": "3.6.9"
  }
 },
 "nbformat": 4,
 "nbformat_minor": 2
}
