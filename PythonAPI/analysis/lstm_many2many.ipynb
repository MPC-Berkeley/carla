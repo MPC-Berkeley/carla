{
 "cells": [
  {
   "cell_type": "markdown",
   "metadata": {},
   "source": [
    "# LSTM: Many-to-many setup\n",
    "\n",
    "<span style=\"color:red;font-weight:bold\"> For prototyping the LSTM model.</span>\n"
   ]
  },
  {
   "cell_type": "code",
   "execution_count": 2,
   "metadata": {},
   "outputs": [
    {
     "name": "stderr",
     "output_type": "stream",
     "text": [
      "Using TensorFlow backend.\n",
      "/home/xushen/anaconda3/envs/carla_analysis/lib/python3.6/site-packages/tensorflow/python/framework/dtypes.py:523: FutureWarning: Passing (type, 1) or '1type' as a synonym of type is deprecated; in a future version of numpy, it will be understood as (type, (1,)) / '(1,)type'.\n",
      "  _np_qint8 = np.dtype([(\"qint8\", np.int8, 1)])\n",
      "/home/xushen/anaconda3/envs/carla_analysis/lib/python3.6/site-packages/tensorflow/python/framework/dtypes.py:524: FutureWarning: Passing (type, 1) or '1type' as a synonym of type is deprecated; in a future version of numpy, it will be understood as (type, (1,)) / '(1,)type'.\n",
      "  _np_quint8 = np.dtype([(\"quint8\", np.uint8, 1)])\n",
      "/home/xushen/anaconda3/envs/carla_analysis/lib/python3.6/site-packages/tensorflow/python/framework/dtypes.py:525: FutureWarning: Passing (type, 1) or '1type' as a synonym of type is deprecated; in a future version of numpy, it will be understood as (type, (1,)) / '(1,)type'.\n",
      "  _np_qint16 = np.dtype([(\"qint16\", np.int16, 1)])\n",
      "/home/xushen/anaconda3/envs/carla_analysis/lib/python3.6/site-packages/tensorflow/python/framework/dtypes.py:526: FutureWarning: Passing (type, 1) or '1type' as a synonym of type is deprecated; in a future version of numpy, it will be understood as (type, (1,)) / '(1,)type'.\n",
      "  _np_quint16 = np.dtype([(\"quint16\", np.uint16, 1)])\n",
      "/home/xushen/anaconda3/envs/carla_analysis/lib/python3.6/site-packages/tensorflow/python/framework/dtypes.py:527: FutureWarning: Passing (type, 1) or '1type' as a synonym of type is deprecated; in a future version of numpy, it will be understood as (type, (1,)) / '(1,)type'.\n",
      "  _np_qint32 = np.dtype([(\"qint32\", np.int32, 1)])\n",
      "/home/xushen/anaconda3/envs/carla_analysis/lib/python3.6/site-packages/tensorflow/python/framework/dtypes.py:532: FutureWarning: Passing (type, 1) or '1type' as a synonym of type is deprecated; in a future version of numpy, it will be understood as (type, (1,)) / '(1,)type'.\n",
      "  np_resource = np.dtype([(\"resource\", np.ubyte, 1)])\n"
     ]
    }
   ],
   "source": [
    "import re\n",
    "import numpy as np\n",
    "import unidecode\n",
    "from keras.preprocessing.sequence import pad_sequences\n",
    "from IPython import get_ipython;   \n",
    "#get_ipython().magic('reset -sf')\n",
    "import pandas\n",
    "import matplotlib.pyplot as plt\n",
    "from IPython import display\n",
    "import numpy as np\n",
    "import matplotlib.pyplot as plt\n",
    "import pandas\n",
    "import math\n",
    "from keras.models import Sequential\n",
    "from keras.layers import Dense,Dropout\n",
    "from keras.layers import LSTM\n",
    "from keras.layers import *\n",
    "from sklearn.preprocessing import MinMaxScaler\n",
    "from sklearn.metrics import mean_squared_error\n",
    "from sklearn.metrics import mean_absolute_error\n",
    "from keras.callbacks import EarlyStopping"
   ]
  },
  {
   "cell_type": "code",
   "execution_count": 3,
   "metadata": {},
   "outputs": [
    {
     "data": {
      "image/png": "[encoded data removed]",
      "text/plain": [
       "<Figure size 432x288 with 1 Axes>"
      ]
     },
     "metadata": {
      "needs_background": "light"
     },
     "output_type": "display_data"
    }
   ],
   "source": [
    "thetas = np.linspace(0,4*np.pi,1000)\n",
    "dataset = np.array([np.sin(thetas),np.sin(thetas)*np.cos(thetas)]).T\n",
    "dataset = dataset.astype('float32')\n",
    "plt.plot(dataset[:,0],dataset[:,1])\n",
    "plt.show()"
   ]
  },
  {
   "cell_type": "code",
   "execution_count": 4,
   "metadata": {},
   "outputs": [],
   "source": [
    "# convert an array of values into a dataset matrix\n",
    "def create_dataset(dataset, look_back):\n",
    "    dataX, dataY = [], []\n",
    "    for i in range(len(dataset)-look_back-look_back):\n",
    "        print\n",
    "        a = dataset[i:(i+look_back), :]\n",
    "        b = dataset[(i+look_back):(i+look_back+look_back),:]\n",
    "        dataX.append(a)\n",
    "        dataY.append(b)\n",
    "    return np.array(dataX), np.array(dataY)"
   ]
  },
  {
   "cell_type": "code",
   "execution_count": 5,
   "metadata": {},
   "outputs": [
    {
     "data": {
      "text/plain": [
       "((630, 20, 2), (630, 20, 2))"
      ]
     },
     "execution_count": 5,
     "metadata": {},
     "output_type": "execute_result"
    }
   ],
   "source": [
    "train_size = int(len(dataset)*0.67)\n",
    "test_size = len(dataset) - train_size\n",
    "train, test = dataset[0:train_size,:], dataset[train_size:len(dataset),:]\n",
    "\n",
    "# reshape into X=t and Y=t+1\n",
    "look_back = 20\n",
    "trainX, trainY = create_dataset(train, look_back)\n",
    "trainX.shape,trainY.shape"
   ]
  },
  {
   "cell_type": "code",
   "execution_count": 6,
   "metadata": {},
   "outputs": [],
   "source": [
    "# Add your import statements here\n",
    "from keras import Input, Model\n",
    "from keras.layers import Activation, TimeDistributed, Dense, RepeatVector, Embedding\n",
    "from keras.layers.recurrent import LSTM\n",
    "\n",
    "def create_model(X_seq_len,X_seq_feat,Y_seq_len,Y_seq_feat, hidden_dim):\n",
    "    # Set up input shape to encoder\n",
    "    encoder_input_layer = Input(shape=(X_seq_len,X_seq_feat))\n",
    "    \n",
    "    # Define encoder\n",
    "    encoder = LSTM(hidden_dim,return_state=True)\n",
    "    # Encoder outputs - but only consider the memory and weights\n",
    "    encoder_outputs, state_h, state_c = encoder(encoder_input_layer)\n",
    "    encoder_states = [state_h,state_c]\n",
    "    \n",
    "    # We need to feed the decoder some zero inputs that is uncorrelated\n",
    "    null_input = Input(shape=[Y_seq_feat])\n",
    "    repeated_null = RepeatVector(Y_seq_len)(null_input)\n",
    "    \n",
    "    # Define decoder\n",
    "    decoder = LSTM(hidden_dim,return_sequences=True, return_state=True)\n",
    "    decoder_outputs,_,_ = decoder(repeated_null,initial_state=encoder_states)\n",
    "    decoder_fully_connected = TimeDistributed(Dense(Y_seq_feat))(decoder_outputs)\n",
    "    \n",
    "    # Create final model\n",
    "    model = Model([encoder_input_layer,null_input], decoder_fully_connected)\n",
    "    \n",
    "    # Compile model using loss\n",
    "    model.compile(loss='mean_squared_error', optimizer='adam')\n",
    "    \n",
    "    return model\n",
    "    "
   ]
  },
  {
   "cell_type": "code",
   "execution_count": 7,
   "metadata": {
    "scrolled": true
   },
   "outputs": [
    {
     "name": "stdout",
     "output_type": "stream",
     "text": [
      "Epoch 1/100\n",
      "630/630 [==============================] - 2s 4ms/step - loss: 0.2918\n",
      "Epoch 2/100\n",
      "630/630 [==============================] - 1s 902us/step - loss: 0.2069\n",
      "Epoch 3/100\n",
      "630/630 [==============================] - 1s 861us/step - loss: 0.0963\n",
      "Epoch 4/100\n",
      "630/630 [==============================] - 1s 869us/step - loss: 0.0609\n",
      "Epoch 5/100\n",
      "630/630 [==============================] - 1s 852us/step - loss: 0.0440\n",
      "Epoch 6/100\n",
      "630/630 [==============================] - 1s 830us/step - loss: 0.0298\n",
      "Epoch 7/100\n",
      "630/630 [==============================] - 1s 801us/step - loss: 0.0160\n",
      "Epoch 8/100\n",
      "630/630 [==============================] - 1s 821us/step - loss: 0.0095\n",
      "Epoch 9/100\n",
      "630/630 [==============================] - 1s 825us/step - loss: 0.0068\n",
      "Epoch 10/100\n",
      "630/630 [==============================] - 1s 820us/step - loss: 0.0055\n",
      "Epoch 11/100\n",
      "630/630 [==============================] - 1s 823us/step - loss: 0.0045\n",
      "Epoch 12/100\n",
      "630/630 [==============================] - 1s 815us/step - loss: 0.0039\n",
      "Epoch 13/100\n",
      "630/630 [==============================] - 1s 821us/step - loss: 0.0035\n",
      "Epoch 14/100\n",
      "630/630 [==============================] - 1s 816us/step - loss: 0.0032\n",
      "Epoch 15/100\n",
      "630/630 [==============================] - 1s 821us/step - loss: 0.0030\n",
      "Epoch 16/100\n",
      "630/630 [==============================] - 1s 824us/step - loss: 0.0028\n",
      "Epoch 17/100\n",
      "630/630 [==============================] - 1s 813us/step - loss: 0.0026\n",
      "Epoch 18/100\n",
      "630/630 [==============================] - 1s 848us/step - loss: 0.0025\n",
      "Epoch 19/100\n",
      "630/630 [==============================] - 1s 824us/step - loss: 0.0024\n",
      "Epoch 20/100\n",
      "630/630 [==============================] - 1s 824us/step - loss: 0.0023\n",
      "Epoch 21/100\n",
      "630/630 [==============================] - 1s 828us/step - loss: 0.0022\n",
      "Epoch 22/100\n",
      "630/630 [==============================] - 1s 815us/step - loss: 0.0021\n",
      "Epoch 23/100\n",
      "630/630 [==============================] - 1s 813us/step - loss: 0.0020\n",
      "Epoch 24/100\n",
      "630/630 [==============================] - 1s 819us/step - loss: 0.0019\n",
      "Epoch 25/100\n",
      "630/630 [==============================] - 1s 806us/step - loss: 0.0018\n",
      "Epoch 26/100\n",
      "630/630 [==============================] - 1s 815us/step - loss: 0.0018\n",
      "Epoch 27/100\n",
      "630/630 [==============================] - 1s 808us/step - loss: 0.0017\n",
      "Epoch 28/100\n",
      "630/630 [==============================] - 1s 813us/step - loss: 0.0016\n",
      "Epoch 29/100\n",
      "630/630 [==============================] - 1s 810us/step - loss: 0.0015\n",
      "Epoch 30/100\n",
      "630/630 [==============================] - 1s 812us/step - loss: 0.0014\n",
      "Epoch 31/100\n",
      "630/630 [==============================] - 1s 795us/step - loss: 0.0013\n",
      "Epoch 32/100\n",
      "630/630 [==============================] - 1s 842us/step - loss: 0.0012\n",
      "Epoch 33/100\n",
      "630/630 [==============================] - 1s 798us/step - loss: 0.0011\n",
      "Epoch 34/100\n",
      "630/630 [==============================] - 1s 801us/step - loss: 9.7108e-04\n",
      "Epoch 35/100\n",
      "630/630 [==============================] - 1s 797us/step - loss: 8.6198e-04\n",
      "Epoch 36/100\n",
      "630/630 [==============================] - 1s 813us/step - loss: 7.3681e-04\n",
      "Epoch 37/100\n",
      "630/630 [==============================] - 1s 832us/step - loss: 6.3333e-04\n",
      "Epoch 38/100\n",
      "630/630 [==============================] - 1s 800us/step - loss: 5.6763e-04\n",
      "Epoch 39/100\n",
      "630/630 [==============================] - 1s 808us/step - loss: 4.9206e-04\n",
      "Epoch 40/100\n",
      "630/630 [==============================] - 1s 799us/step - loss: 4.1555e-04\n",
      "Epoch 41/100\n",
      "630/630 [==============================] - 1s 802us/step - loss: 3.8547e-04\n",
      "Epoch 42/100\n",
      "630/630 [==============================] - 1s 812us/step - loss: 3.4324e-04\n",
      "Epoch 43/100\n",
      "630/630 [==============================] - 1s 799us/step - loss: 2.9994e-04\n",
      "Epoch 44/100\n",
      "630/630 [==============================] - 1s 806us/step - loss: 2.7670e-04\n",
      "Epoch 45/100\n",
      "630/630 [==============================] - 1s 799us/step - loss: 2.5666e-04\n",
      "Epoch 46/100\n",
      "630/630 [==============================] - 1s 800us/step - loss: 2.4032e-04\n",
      "Epoch 47/100\n",
      "630/630 [==============================] - 1s 806us/step - loss: 2.1992e-04\n",
      "Epoch 48/100\n",
      "630/630 [==============================] - 1s 826us/step - loss: 2.0102e-04\n",
      "Epoch 49/100\n",
      "630/630 [==============================] - 1s 800us/step - loss: 1.8768e-04\n",
      "Epoch 50/100\n",
      "630/630 [==============================] - 1s 823us/step - loss: 1.7899e-04\n",
      "Epoch 51/100\n",
      "630/630 [==============================] - 1s 814us/step - loss: 1.6699e-04\n",
      "Epoch 52/100\n",
      "630/630 [==============================] - 1s 815us/step - loss: 1.5704e-04\n",
      "Epoch 53/100\n",
      "630/630 [==============================] - 1s 810us/step - loss: 1.4946e-04\n",
      "Epoch 54/100\n",
      "630/630 [==============================] - 1s 808us/step - loss: 1.4200e-04\n",
      "Epoch 55/100\n",
      "630/630 [==============================] - 1s 801us/step - loss: 1.3379e-04\n",
      "Epoch 56/100\n",
      "630/630 [==============================] - 1s 829us/step - loss: 1.2978e-04\n",
      "Epoch 57/100\n",
      "630/630 [==============================] - 1s 812us/step - loss: 1.2176e-04\n",
      "Epoch 58/100\n",
      "630/630 [==============================] - 1s 811us/step - loss: 1.1503e-04\n",
      "Epoch 59/100\n",
      "630/630 [==============================] - 1s 895us/step - loss: 1.0950e-04\n",
      "Epoch 60/100\n",
      "630/630 [==============================] - 1s 858us/step - loss: 1.0532e-04\n",
      "Epoch 61/100\n",
      "630/630 [==============================] - 1s 858us/step - loss: 1.0147e-04\n",
      "Epoch 62/100\n",
      "630/630 [==============================] - 1s 806us/step - loss: 9.4085e-05\n",
      "Epoch 63/100\n",
      "630/630 [==============================] - 1s 807us/step - loss: 8.9220e-05\n",
      "Epoch 64/100\n",
      "630/630 [==============================] - 1s 807us/step - loss: 8.6493e-05\n",
      "Epoch 65/100\n",
      "630/630 [==============================] - 1s 805us/step - loss: 8.1016e-05\n",
      "Epoch 66/100\n",
      "630/630 [==============================] - 1s 839us/step - loss: 7.6912e-05\n",
      "Epoch 67/100\n",
      "630/630 [==============================] - 1s 874us/step - loss: 7.4812e-05\n",
      "Epoch 68/100\n",
      "630/630 [==============================] - 1s 917us/step - loss: 7.1003e-05\n",
      "Epoch 69/100\n",
      "630/630 [==============================] - 1s 925us/step - loss: 6.9377e-05\n",
      "Epoch 70/100\n",
      "630/630 [==============================] - 1s 925us/step - loss: 6.7422e-05\n",
      "Epoch 71/100\n",
      "630/630 [==============================] - 1s 915us/step - loss: 6.1768e-05\n",
      "Epoch 72/100\n",
      "630/630 [==============================] - 1s 920us/step - loss: 5.8352e-05\n",
      "Epoch 73/100\n",
      "630/630 [==============================] - 1s 921us/step - loss: 5.5539e-05\n",
      "Epoch 74/100\n",
      "630/630 [==============================] - 1s 915us/step - loss: 5.3195e-05\n",
      "Epoch 75/100\n",
      "630/630 [==============================] - 1s 940us/step - loss: 5.2039e-05\n",
      "Epoch 76/100\n",
      "630/630 [==============================] - 1s 981us/step - loss: 5.1838e-05\n",
      "Epoch 77/100\n",
      "630/630 [==============================] - 1s 998us/step - loss: 4.8986e-05\n",
      "Epoch 78/100\n",
      "630/630 [==============================] - 1s 946us/step - loss: 4.6412e-05\n",
      "Epoch 79/100\n",
      "630/630 [==============================] - 1s 932us/step - loss: 4.3598e-05\n",
      "Epoch 80/100\n",
      "630/630 [==============================] - 1s 949us/step - loss: 4.1676e-05\n",
      "Epoch 81/100\n",
      "630/630 [==============================] - 1s 955us/step - loss: 4.0176e-05\n",
      "Epoch 82/100\n",
      "630/630 [==============================] - 1s 929us/step - loss: 4.0739e-05\n",
      "Epoch 83/100\n",
      "630/630 [==============================] - 1s 930us/step - loss: 3.9242e-05\n",
      "Epoch 84/100\n",
      "630/630 [==============================] - 1s 936us/step - loss: 3.6596e-05\n",
      "Epoch 85/100\n",
      "630/630 [==============================] - 1s 928us/step - loss: 3.3830e-05\n",
      "Epoch 86/100\n",
      "630/630 [==============================] - 1s 922us/step - loss: 3.3553e-05\n",
      "Epoch 87/100\n",
      "630/630 [==============================] - 1s 923us/step - loss: 3.3311e-05\n",
      "Epoch 88/100\n",
      "630/630 [==============================] - 1s 916us/step - loss: 3.2232e-05\n",
      "Epoch 89/100\n",
      "630/630 [==============================] - 1s 941us/step - loss: 2.9778e-05\n",
      "Epoch 90/100\n",
      "630/630 [==============================] - 1s 936us/step - loss: 2.8588e-05\n",
      "Epoch 91/100\n",
      "630/630 [==============================] - 1s 1ms/step - loss: 2.7804e-05\n",
      "Epoch 92/100\n",
      "630/630 [==============================] - 1s 1ms/step - loss: 2.7281e-05\n",
      "Epoch 93/100\n",
      "630/630 [==============================] - 1s 943us/step - loss: 2.6103e-05\n",
      "Epoch 94/100\n",
      "630/630 [==============================] - 1s 1ms/step - loss: 2.4189e-05\n",
      "Epoch 95/100\n",
      "630/630 [==============================] - 1s 929us/step - loss: 2.4250e-05\n",
      "Epoch 96/100\n",
      "630/630 [==============================] - 1s 934us/step - loss: 2.4211e-05\n",
      "Epoch 97/100\n",
      "630/630 [==============================] - 1s 907us/step - loss: 2.2929e-05\n",
      "Epoch 98/100\n",
      "630/630 [==============================] - 1s 893us/step - loss: 2.1944e-05\n",
      "Epoch 99/100\n",
      "630/630 [==============================] - 1s 912us/step - loss: 2.0510e-05\n",
      "Epoch 100/100\n",
      "630/630 [==============================] - 1s 911us/step - loss: 2.0558e-05\n"
     ]
    },
    {
     "data": {
      "text/plain": [
       "<keras.callbacks.History at 0x7febb5d08e80>"
      ]
     },
     "execution_count": 7,
     "metadata": {},
     "output_type": "execute_result"
    }
   ],
   "source": [
    "input_len = 20\n",
    "input_feat = 2\n",
    "output_len = 20\n",
    "output_feat = 2\n",
    "hidden_dim = 20\n",
    "model = create_model(input_len,input_feat,\n",
    "                     output_len,output_feat,hidden_dim)\n",
    "x = trainX[:,:,:]\n",
    "y = trainY[:,:,:]\n",
    "z = np.zeros((len(x),output_feat))\n",
    "model.fit([x,z],y,epochs=100)"
   ]
  },
  {
   "cell_type": "code",
   "execution_count": 8,
   "metadata": {},
   "outputs": [],
   "source": [
    "xp = model.predict([x,z])"
   ]
  },
  {
   "cell_type": "code",
   "execution_count": 9,
   "metadata": {},
   "outputs": [
    {
     "data": {
      "image/png": "[encoded data removed]",
      "text/plain": [
       "<Figure size 432x288 with 1 Axes>"
      ]
     },
     "metadata": {},
     "output_type": "display_data"
    },
    {
     "data": {
      "image/png": "[encoded data removed]",
      "text/plain": [
       "<Figure size 432x288 with 1 Axes>"
      ]
     },
     "metadata": {
      "needs_background": "light"
     },
     "output_type": "display_data"
    }
   ],
   "source": [
    "line, = plt.plot([],[],label='Input')\n",
    "line1, = plt.plot([],[],label='GT')\n",
    "line2, = plt.plot([],[],label='Pred')\n",
    "plt.legend()\n",
    "ax = plt.gca()\n",
    "ax.set_xlim(-1.1,1.1)\n",
    "ax.set_ylim(-1.1,1.1)\n",
    "ax.set_aspect('equal')\n",
    "for i in range(400):\n",
    "    line.set_data(trainX[i,:,0],trainX[i,:,1])\n",
    "    line1.set_data(trainY[i,:,0],trainY[i,:,1])\n",
    "    line2.set_data(xp[i,:,0],xp[i,:,1])\n",
    "    display.clear_output(wait=True)\n",
    "    display.display(plt.gcf()) "
   ]
  },
  {
   "cell_type": "code",
   "execution_count": null,
   "metadata": {},
   "outputs": [],
   "source": []
  }
 ],
 "metadata": {
  "kernelspec": {
   "display_name": "Python 3",
   "language": "python",
   "name": "python3"
  },
  "language_info": {
   "codemirror_mode": {
    "name": "ipython",
    "version": 3
   },
   "file_extension": ".py",
   "mimetype": "text/x-python",
   "name": "python",
   "nbconvert_exporter": "python",
   "pygments_lexer": "ipython3",
   "version": "3.6.9"
  }
 },
 "nbformat": 4,
 "nbformat_minor": 2
}
