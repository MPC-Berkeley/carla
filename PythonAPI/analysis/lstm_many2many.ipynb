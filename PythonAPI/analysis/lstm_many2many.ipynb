{
 "cells": [
  {
   "cell_type": "markdown",
   "metadata": {},
   "source": [
    "# LSTM: Many-to-many setup"
   ]
  },
  {
   "cell_type": "code",
   "execution_count": 246,
   "metadata": {},
   "outputs": [],
   "source": [
    "import re\n",
    "import numpy as np\n",
    "import unidecode\n",
    "from keras.preprocessing.sequence import pad_sequences\n",
    "from IPython import get_ipython;   \n",
    "#get_ipython().magic('reset -sf')\n",
    "import pandas\n",
    "import matplotlib.pyplot as plt\n",
    "from IPython import display\n",
    "import numpy as np\n",
    "import matplotlib.pyplot as plt\n",
    "import pandas\n",
    "import math\n",
    "from keras.models import Sequential\n",
    "from keras.layers import Dense,Dropout\n",
    "from keras.layers import LSTM\n",
    "from keras.layers import *\n",
    "from sklearn.preprocessing import MinMaxScaler\n",
    "from sklearn.metrics import mean_squared_error\n",
    "from sklearn.metrics import mean_absolute_error\n",
    "from keras.callbacks import EarlyStopping"
   ]
  },
  {
   "cell_type": "code",
   "execution_count": 280,
   "metadata": {},
   "outputs": [
    {
     "data": {
      "image/png": "[encoded data removed]",
      "text/plain": [
       "<Figure size 432x288 with 1 Axes>"
      ]
     },
     "metadata": {
      "needs_background": "light"
     },
     "output_type": "display_data"
    }
   ],
   "source": [
    "thetas = np.linspace(0,4*np.pi,1000)\n",
    "dataset = np.array([np.sin(thetas),np.sin(thetas)*np.cos(thetas)]).T\n",
    "dataset = dataset.astype('float32')\n",
    "plt.plot(dataset[:,0],dataset[:,1])\n",
    "plt.show()"
   ]
  },
  {
   "cell_type": "code",
   "execution_count": 282,
   "metadata": {},
   "outputs": [],
   "source": [
    "# convert an array of values into a dataset matrix\n",
    "def create_dataset(dataset, look_back):\n",
    "    dataX, dataY = [], []\n",
    "    for i in range(len(dataset)-look_back-look_back):\n",
    "        print\n",
    "        a = dataset[i:(i+look_back), :]\n",
    "        b = dataset[(i+look_back):(i+look_back+look_back),:]\n",
    "        dataX.append(a)\n",
    "        dataY.append(b)\n",
    "    return np.array(dataX), np.array(dataY)"
   ]
  },
  {
   "cell_type": "code",
   "execution_count": 283,
   "metadata": {},
   "outputs": [
    {
     "data": {
      "text/plain": [
       "((630, 20, 2), (630, 20, 2))"
      ]
     },
     "execution_count": 283,
     "metadata": {},
     "output_type": "execute_result"
    }
   ],
   "source": [
    "train_size = int(len(dataset)*0.67)\n",
    "test_size = len(dataset) - train_size\n",
    "train, test = dataset[0:train_size,:], dataset[train_size:len(dataset),:]\n",
    "\n",
    "# reshape into X=t and Y=t+1\n",
    "look_back = 20\n",
    "trainX, trainY = create_dataset(train, look_back)\n",
    "trainX.shape,trainY.shape"
   ]
  },
  {
   "cell_type": "code",
   "execution_count": 284,
   "metadata": {},
   "outputs": [],
   "source": [
    "# Add your import statements here\n",
    "from keras import Input, Model\n",
    "from keras.layers import Activation, TimeDistributed, Dense, RepeatVector, Embedding\n",
    "from keras.layers.recurrent import LSTM\n",
    "\n",
    "def create_model(X_seq_len,X_seq_feat,Y_seq_len,Y_seq_feat, hidden_dim):\n",
    "    # Set up input shape to encoder\n",
    "    encoder_input_layer = Input(shape=(X_seq_len,X_seq_feat))\n",
    "    \n",
    "    # Define encoder\n",
    "    encoder = LSTM(hidden_dim,return_state=True)\n",
    "    # Encoder outputs - but only consider the memory and weights\n",
    "    encoder_outputs, state_h, state_c = encoder(encoder_input_layer)\n",
    "    encoder_states = [state_h,state_c]\n",
    "    \n",
    "    # We need to feed the decoder some zero inputs that is uncorrelated\n",
    "    null_input = Input(shape=[Y_seq_feat])\n",
    "    repeated_null = RepeatVector(Y_seq_len)(null_input)\n",
    "    \n",
    "    # Define decoder\n",
    "    decoder = LSTM(hidden_dim,return_sequences=True, return_state=True)\n",
    "    decoder_outputs,_,_ = decoder(repeated_null,initial_state=encoder_states)\n",
    "    decoder_fully_connected = TimeDistributed(Dense(Y_seq_feat))(decoder_outputs)\n",
    "    \n",
    "    # Create final model\n",
    "    model = Model([encoder_input_layer,null_input], decoder_fully_connected)\n",
    "    \n",
    "    # Compile model using loss\n",
    "    model.compile(loss='mean_squared_error', optimizer='adam')\n",
    "    \n",
    "    return model\n",
    "    "
   ]
  },
  {
   "cell_type": "code",
   "execution_count": 285,
   "metadata": {
    "scrolled": true
   },
   "outputs": [
    {
     "name": "stdout",
     "output_type": "stream",
     "text": [
      "Epoch 1/100\n",
      "630/630 [==============================] - 6s 10ms/step - loss: 0.3093\n",
      "Epoch 2/100\n",
      "630/630 [==============================] - 1s 798us/step - loss: 0.2269\n",
      "Epoch 3/100\n",
      "630/630 [==============================] - 1s 796us/step - loss: 0.1247\n",
      "Epoch 4/100\n",
      "630/630 [==============================] - 1s 803us/step - loss: 0.0707\n",
      "Epoch 5/100\n",
      "630/630 [==============================] - 1s 812us/step - loss: 0.0437\n",
      "Epoch 6/100\n",
      "630/630 [==============================] - 1s 804us/step - loss: 0.0253\n",
      "Epoch 7/100\n",
      "630/630 [==============================] - 1s 841us/step - loss: 0.0145\n",
      "Epoch 8/100\n",
      "630/630 [==============================] - 1s 803us/step - loss: 0.0084\n",
      "Epoch 9/100\n",
      "630/630 [==============================] - 0s 791us/step - loss: 0.0069\n",
      "Epoch 10/100\n",
      "630/630 [==============================] - 1s 798us/step - loss: 0.0061\n",
      "Epoch 11/100\n",
      "630/630 [==============================] - 1s 819us/step - loss: 0.0055\n",
      "Epoch 12/100\n",
      "630/630 [==============================] - 1s 802us/step - loss: 0.0049\n",
      "Epoch 13/100\n",
      "630/630 [==============================] - 1s 807us/step - loss: 0.0047\n",
      "Epoch 14/100\n",
      "630/630 [==============================] - 1s 797us/step - loss: 0.0042\n",
      "Epoch 15/100\n",
      "630/630 [==============================] - 0s 777us/step - loss: 0.0039\n",
      "Epoch 16/100\n",
      "630/630 [==============================] - 1s 802us/step - loss: 0.0036\n",
      "Epoch 17/100\n",
      "630/630 [==============================] - 1s 822us/step - loss: 0.0034\n",
      "Epoch 18/100\n",
      "630/630 [==============================] - 1s 797us/step - loss: 0.0031\n",
      "Epoch 19/100\n",
      "630/630 [==============================] - 0s 787us/step - loss: 0.0028\n",
      "Epoch 20/100\n",
      "630/630 [==============================] - 1s 795us/step - loss: 0.0025\n",
      "Epoch 21/100\n",
      "630/630 [==============================] - 1s 832us/step - loss: 0.0022\n",
      "Epoch 22/100\n",
      "630/630 [==============================] - 1s 824us/step - loss: 0.0019\n",
      "Epoch 23/100\n",
      "630/630 [==============================] - 1s 818us/step - loss: 0.0016\n",
      "Epoch 24/100\n",
      "630/630 [==============================] - 1s 826us/step - loss: 0.0014\n",
      "Epoch 25/100\n",
      "630/630 [==============================] - 1s 814us/step - loss: 0.0013\n",
      "Epoch 26/100\n",
      "630/630 [==============================] - 1s 822us/step - loss: 0.0012\n",
      "Epoch 27/100\n",
      "630/630 [==============================] - 1s 827us/step - loss: 0.0010\n",
      "Epoch 28/100\n",
      "630/630 [==============================] - 1s 841us/step - loss: 8.5949e-04\n",
      "Epoch 29/100\n",
      "630/630 [==============================] - 1s 914us/step - loss: 7.5374e-04\n",
      "Epoch 30/100\n",
      "630/630 [==============================] - 1s 841us/step - loss: 6.8349e-04\n",
      "Epoch 31/100\n",
      "630/630 [==============================] - 1s 851us/step - loss: 6.1366e-04\n",
      "Epoch 32/100\n",
      "630/630 [==============================] - 1s 845us/step - loss: 5.5406e-04\n",
      "Epoch 33/100\n",
      "630/630 [==============================] - 1s 843us/step - loss: 4.9380e-04\n",
      "Epoch 34/100\n",
      "630/630 [==============================] - 1s 846us/step - loss: 4.3890e-04\n",
      "Epoch 35/100\n",
      "630/630 [==============================] - 1s 820us/step - loss: 4.0022e-04\n",
      "Epoch 36/100\n",
      "630/630 [==============================] - 1s 831us/step - loss: 3.6395e-04\n",
      "Epoch 37/100\n",
      "630/630 [==============================] - 1s 838us/step - loss: 3.3917e-04\n",
      "Epoch 38/100\n",
      "630/630 [==============================] - 0s 786us/step - loss: 2.9875e-04\n",
      "Epoch 39/100\n",
      "630/630 [==============================] - 0s 785us/step - loss: 2.7143e-04\n",
      "Epoch 40/100\n",
      "630/630 [==============================] - 1s 812us/step - loss: 2.4973e-04\n",
      "Epoch 41/100\n",
      "630/630 [==============================] - 1s 836us/step - loss: 2.3061e-04\n",
      "Epoch 42/100\n",
      "630/630 [==============================] - 1s 813us/step - loss: 2.1298e-04\n",
      "Epoch 43/100\n",
      "630/630 [==============================] - 1s 830us/step - loss: 1.9280e-04\n",
      "Epoch 44/100\n",
      "630/630 [==============================] - 1s 830us/step - loss: 1.8226e-04\n",
      "Epoch 45/100\n",
      "630/630 [==============================] - 1s 821us/step - loss: 1.6840e-04\n",
      "Epoch 46/100\n",
      "630/630 [==============================] - 1s 805us/step - loss: 1.5625e-04\n",
      "Epoch 47/100\n",
      "630/630 [==============================] - 1s 825us/step - loss: 1.4991e-04\n",
      "Epoch 48/100\n",
      "630/630 [==============================] - 1s 811us/step - loss: 1.3824e-04\n",
      "Epoch 49/100\n",
      "630/630 [==============================] - 1s 838us/step - loss: 1.2191e-04\n",
      "Epoch 50/100\n",
      "630/630 [==============================] - 1s 824us/step - loss: 1.1433e-04\n",
      "Epoch 51/100\n",
      "630/630 [==============================] - 1s 822us/step - loss: 1.0968e-04\n",
      "Epoch 52/100\n",
      "630/630 [==============================] - 1s 827us/step - loss: 1.0709e-04\n",
      "Epoch 53/100\n",
      "630/630 [==============================] - 1s 794us/step - loss: 1.0357e-04\n",
      "Epoch 54/100\n",
      "630/630 [==============================] - 1s 804us/step - loss: 9.7477e-05\n",
      "Epoch 55/100\n",
      "630/630 [==============================] - 1s 824us/step - loss: 8.5968e-05\n",
      "Epoch 56/100\n",
      "630/630 [==============================] - 1s 829us/step - loss: 8.4757e-05\n",
      "Epoch 57/100\n",
      "630/630 [==============================] - 1s 816us/step - loss: 7.9453e-05\n",
      "Epoch 58/100\n",
      "630/630 [==============================] - 1s 825us/step - loss: 8.0563e-05\n",
      "Epoch 59/100\n",
      "630/630 [==============================] - 1s 823us/step - loss: 7.0368e-05\n",
      "Epoch 60/100\n",
      "630/630 [==============================] - 0s 765us/step - loss: 6.7162e-05\n",
      "Epoch 61/100\n",
      "630/630 [==============================] - 1s 852us/step - loss: 6.4293e-05\n",
      "Epoch 62/100\n",
      "630/630 [==============================] - 1s 840us/step - loss: 5.9506e-05\n",
      "Epoch 63/100\n",
      "630/630 [==============================] - 1s 815us/step - loss: 5.9445e-05\n",
      "Epoch 64/100\n",
      "630/630 [==============================] - 1s 823us/step - loss: 5.4613e-05\n",
      "Epoch 65/100\n",
      "630/630 [==============================] - 1s 815us/step - loss: 5.2977e-05\n",
      "Epoch 66/100\n",
      "630/630 [==============================] - 1s 858us/step - loss: 5.3561e-05\n",
      "Epoch 67/100\n",
      "630/630 [==============================] - 1s 858us/step - loss: 4.9109e-05\n",
      "Epoch 68/100\n",
      "630/630 [==============================] - 1s 847us/step - loss: 4.5876e-05\n",
      "Epoch 69/100\n",
      "630/630 [==============================] - 1s 849us/step - loss: 4.6093e-05\n",
      "Epoch 70/100\n",
      "630/630 [==============================] - 1s 861us/step - loss: 4.4184e-05\n",
      "Epoch 71/100\n",
      "630/630 [==============================] - 1s 830us/step - loss: 4.6271e-05\n",
      "Epoch 72/100\n",
      "630/630 [==============================] - 1s 858us/step - loss: 4.5548e-05\n",
      "Epoch 73/100\n",
      "630/630 [==============================] - 0s 785us/step - loss: 3.8831e-05\n",
      "Epoch 74/100\n",
      "630/630 [==============================] - 1s 799us/step - loss: 3.9401e-05\n",
      "Epoch 75/100\n",
      "630/630 [==============================] - 1s 811us/step - loss: 3.5864e-05\n",
      "Epoch 76/100\n",
      "630/630 [==============================] - 1s 839us/step - loss: 3.3067e-05\n",
      "Epoch 77/100\n",
      "630/630 [==============================] - 1s 848us/step - loss: 3.2187e-05\n",
      "Epoch 78/100\n",
      "630/630 [==============================] - 1s 859us/step - loss: 3.3141e-05\n",
      "Epoch 79/100\n",
      "630/630 [==============================] - 1s 839us/step - loss: 3.1066e-05\n",
      "Epoch 80/100\n",
      "630/630 [==============================] - 1s 830us/step - loss: 3.0612e-05\n",
      "Epoch 81/100\n",
      "630/630 [==============================] - 1s 824us/step - loss: 2.7952e-05\n",
      "Epoch 82/100\n",
      "630/630 [==============================] - 1s 818us/step - loss: 2.6852e-05\n",
      "Epoch 83/100\n",
      "630/630 [==============================] - 1s 836us/step - loss: 2.7642e-05\n",
      "Epoch 84/100\n",
      "630/630 [==============================] - 1s 906us/step - loss: 2.9567e-05\n",
      "Epoch 85/100\n",
      "630/630 [==============================] - 1s 820us/step - loss: 2.6761e-05\n",
      "Epoch 86/100\n",
      "630/630 [==============================] - 1s 824us/step - loss: 2.5123e-05\n",
      "Epoch 87/100\n",
      "630/630 [==============================] - 1s 810us/step - loss: 2.5319e-05\n",
      "Epoch 88/100\n",
      "630/630 [==============================] - 1s 823us/step - loss: 2.8884e-05\n",
      "Epoch 89/100\n",
      "630/630 [==============================] - 1s 826us/step - loss: 2.4800e-05\n",
      "Epoch 90/100\n",
      "630/630 [==============================] - 1s 812us/step - loss: 2.0940e-05\n",
      "Epoch 91/100\n",
      "630/630 [==============================] - 1s 827us/step - loss: 2.0331e-05\n",
      "Epoch 92/100\n",
      "630/630 [==============================] - 1s 804us/step - loss: 2.1765e-05\n",
      "Epoch 93/100\n",
      "630/630 [==============================] - 1s 815us/step - loss: 2.1871e-05\n",
      "Epoch 94/100\n"
     ]
    },
    {
     "name": "stdout",
     "output_type": "stream",
     "text": [
      "630/630 [==============================] - 1s 796us/step - loss: 2.2959e-05\n",
      "Epoch 95/100\n",
      "630/630 [==============================] - 0s 792us/step - loss: 2.0281e-05\n",
      "Epoch 96/100\n",
      "630/630 [==============================] - 0s 791us/step - loss: 1.9396e-05\n",
      "Epoch 97/100\n",
      "630/630 [==============================] - 0s 789us/step - loss: 1.7446e-05\n",
      "Epoch 98/100\n",
      "630/630 [==============================] - 0s 754us/step - loss: 2.1207e-05\n",
      "Epoch 99/100\n",
      "630/630 [==============================] - 0s 761us/step - loss: 2.9862e-05\n",
      "Epoch 100/100\n",
      "630/630 [==============================] - 0s 784us/step - loss: 2.6790e-05\n"
     ]
    },
    {
     "data": {
      "text/plain": [
       "<keras.callbacks.History at 0x14d7f8898>"
      ]
     },
     "execution_count": 285,
     "metadata": {},
     "output_type": "execute_result"
    }
   ],
   "source": [
    "input_len = 20\n",
    "input_feat = 2\n",
    "output_len = 20\n",
    "output_feat = 2\n",
    "hidden_dim = 20\n",
    "model = create_model(input_len,input_feat,\n",
    "                     output_len,output_feat,hidden_dim)\n",
    "x = trainX[:,:,:]\n",
    "y = trainY[:,:,:]\n",
    "z = np.zeros((len(x),output_feat))\n",
    "model.fit([x,z],y,epochs=100)"
   ]
  },
  {
   "cell_type": "code",
   "execution_count": 286,
   "metadata": {},
   "outputs": [],
   "source": [
    "xp = model.predict([x,z])"
   ]
  },
  {
   "cell_type": "code",
   "execution_count": 287,
   "metadata": {},
   "outputs": [
    {
     "data": {
      "image/png": "[encoded data removed]",
      "text/plain": [
       "<Figure size 432x288 with 1 Axes>"
      ]
     },
     "metadata": {},
     "output_type": "display_data"
    },
    {
     "data": {
      "image/png": "[encoded data removed]",
      "text/plain": [
       "<Figure size 432x288 with 1 Axes>"
      ]
     },
     "metadata": {
      "needs_background": "light"
     },
     "output_type": "display_data"
    }
   ],
   "source": [
    "line, = plt.plot([],[],label='Input')\n",
    "line1, = plt.plot([],[],label='GT')\n",
    "line2, = plt.plot([],[],label='Pred')\n",
    "plt.legend()\n",
    "ax = plt.gca()\n",
    "ax.set_xlim(-1.1,1.1)\n",
    "ax.set_ylim(-1.1,1.1)\n",
    "ax.set_aspect('equal')\n",
    "for i in range(400):\n",
    "    line.set_data(trainX[i,:,0],trainX[i,:,1])\n",
    "    line1.set_data(trainY[i,:,0],trainY[i,:,1])\n",
    "    line2.set_data(xp[i,:,0],xp[i,:,1])\n",
    "    display.clear_output(wait=True)\n",
    "    display.display(plt.gcf()) "
   ]
  }
 ],
 "metadata": {
  "kernelspec": {
   "display_name": "dlenv",
   "language": "python",
   "name": "dlenv"
  },
  "language_info": {
   "codemirror_mode": {
    "name": "ipython",
    "version": 3
   },
   "file_extension": ".py",
   "mimetype": "text/x-python",
   "name": "python",
   "nbconvert_exporter": "python",
   "pygments_lexer": "ipython3",
   "version": "3.6.3"
  }
 },
 "nbformat": 4,
 "nbformat_minor": 2
}
