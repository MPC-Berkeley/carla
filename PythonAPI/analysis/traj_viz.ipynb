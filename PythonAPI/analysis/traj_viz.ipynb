{
 "cells": [
  {
   "cell_type": "code",
   "execution_count": 19,
   "metadata": {},
   "outputs": [],
   "source": [
    "import os\n",
    "import matplotlib.pyplot as plt\n",
    "import glob\n",
    "import pickle\n",
    "from keras.utils import to_categorical\n",
    "\n",
    "from pkl_reader import *\n",
    "from lstm_impl import CombinedLSTM"
   ]
  },
  {
   "cell_type": "code",
   "execution_count": 10,
   "metadata": {},
   "outputs": [],
   "source": [
    "# The function to extract training data from snippets pickles\n",
    "def extract_data(pklfile, full_traj=False):\n",
    "    with open(pklfile, 'rb') as f:\n",
    "        dataset_all = pickle.load(f)\n",
    "        \n",
    "    # All the history trajectoreis (x, y, heading), with shape (batch_size, sequence_length, feature_dims)\n",
    "    history_traj_data = np.array(dataset_all['features'])[:, :, :3]\n",
    "\n",
    "    # All the future trajectoreis (x, y), with shape (batch_size, sequence_length, feature_dims)\n",
    "    future_traj_data = np.array(dataset_all['labels'])[:, :, :2]\n",
    "\n",
    "    # All the goal positins and occupancy (x, y, occup), with shape (batch_size, (goal_nums * feature_dims))\n",
    "    goals_position = np.array(dataset_all['goals'])\n",
    "    goals_position = goals_position.reshape((goals_position.shape[0], goals_position.shape[1] * goals_position.shape[2]))\n",
    "\n",
    "    # All intention labels, with shape (batch_size, goal_nums)\n",
    "    goal_idx = np.array(dataset_all['labels'])[:, 0, -1]\n",
    "    # Convert to one-hot and the last one is undecided (-1)\n",
    "    one_hot_goal = to_categorical(goal_idx, num_classes=33)\n",
    "    \n",
    "    if full_traj:\n",
    "        traj_idx = np.array(dataset_all['traj_idx'])\n",
    "        return history_traj_data, future_traj_data, goals_position, one_hot_goal, traj_idx\n",
    "    else:  \n",
    "        return history_traj_data, future_traj_data, goals_position, one_hot_goal"
   ]
  },
  {
   "cell_type": "code",
   "execution_count": 11,
   "metadata": {},
   "outputs": [
    {
     "name": "stdout",
     "output_type": "stream",
     "text": [
      "Found 6 pkl files: ['./dataset/pilot_dataset_12_08_13_02_29.pkl', './dataset/pilot_dataset_12_08_13_02_29_fold_0.pkl', './dataset/pilot_dataset_12_08_13_02_29_fold_1.pkl', './dataset/pilot_dataset_12_08_13_02_29_fold_2.pkl', './dataset/pilot_dataset_12_08_13_02_29_fold_3.pkl', './dataset/pilot_dataset_12_08_13_02_29_fold_4.pkl']\n"
     ]
    }
   ],
   "source": [
    "# Get the data\n",
    "pklfiles_to_process = glob.glob('./dataset/*.pkl')\n",
    "pklfiles_to_process.sort()\n",
    "print('Found %d pkl files: %s' % (len(pklfiles_to_process), pklfiles_to_process))\n",
    "\n",
    "file_num = 0\n",
    "\n",
    "pklfile = pklfiles_to_process[file_num]\n",
    "\n",
    "test_set  = {\"history_traj_data\" : None,\n",
    "             \"future_traj_data\"  : None,\n",
    "             \"goal_position\"     : None,\n",
    "             \"one_hot_goal\"      : None}\n",
    "\n",
    "test_set['history_traj_data'], test_set['future_traj_data'], test_set['goal_position'], test_set['one_hot_goal'], traj_idx = extract_data(pklfile, full_traj=True)"
   ]
  },
  {
   "cell_type": "code",
   "execution_count": 12,
   "metadata": {},
   "outputs": [],
   "source": [
    "# Build the model\n",
    "history_shape = test_set['history_traj_data'].shape\n",
    "goals_position_shape = test_set['goal_position'].shape\n",
    "one_hot_goal_shape = test_set['one_hot_goal'].shape\n",
    "future_shape = test_set['future_traj_data'].shape\n",
    "hidden_dim = 100\n",
    "comb_lstm = CombinedLSTM(history_shape, goals_position_shape, one_hot_goal_shape, future_shape, hidden_dim)\n",
    "# comb_lstm.load('file_name')\n",
    "# comb_lstm.goal_model.load()\n",
    "# comb_lstm.traj_model.load()"
   ]
  },
  {
   "cell_type": "code",
   "execution_count": null,
   "metadata": {},
   "outputs": [],
   "source": [
    "comb_lstm.fit(test_set, test_set)"
   ]
  },
  {
   "cell_type": "code",
   "execution_count": null,
   "metadata": {},
   "outputs": [],
   "source": [
    "comb_lstm.save('test')"
   ]
  },
  {
   "cell_type": "code",
   "execution_count": null,
   "metadata": {},
   "outputs": [],
   "source": [
    "# Load the model\n",
    "models_on_disk = glob.glob('./model/*.h5')\n",
    "models_on_disk.sort()\n",
    "print('Found %d model files: %s' % (len(models_on_disk), models_on_disk))"
   ]
  },
  {
   "cell_type": "code",
   "execution_count": 13,
   "metadata": {},
   "outputs": [
    {
     "name": "stdout",
     "output_type": "stream",
     "text": [
      "Loaded model from ./model/test_goal.h5\n",
      "Loaded model from ./model/test_traj.h5\n"
     ]
    }
   ],
   "source": [
    "comb_lstm.load('./model/test')"
   ]
  },
  {
   "cell_type": "code",
   "execution_count": 14,
   "metadata": {},
   "outputs": [],
   "source": [
    "goal_pred, traj_pred = comb_lstm.predict(test_set)"
   ]
  },
  {
   "cell_type": "code",
   "execution_count": 22,
   "metadata": {},
   "outputs": [
    {
     "name": "stdout",
     "output_type": "stream",
     "text": [
      "Start processing trajectory # 000 .....\n",
      "Trajectory # 000 movie saved successfully.\n",
      "Start processing trajectory # 001 .....\n",
      "Trajectory # 001 movie saved successfully.\n"
     ]
    }
   ],
   "source": [
    "# for i in range(len(traj_idx) - 1)\n",
    "\n",
    "# Plot the result\n",
    "goal_ind = np.arange(33)\n",
    "bar_width = 0.35\n",
    "# Recover the goal coordinates\n",
    "test_goals_coords = test_set['goal_position'].reshape((test_set['goal_position'].shape[0], 32, 3))\n",
    "test_hist_traj    = test_set['history_traj_data']\n",
    "test_future_traj  = test_set['future_traj_data']\n",
    "test_one_hot_goal = test_set['one_hot_goal']\n",
    "\n",
    "for k in range(2):\n",
    "    \n",
    "    print(\"Start processing trajectory # %03d .....\" % k)\n",
    "    start_idx = traj_idx[k]\n",
    "    end_idx   = traj_idx[k+1]\n",
    "    directory = './figures/%03d' % k\n",
    "    if not os.path.exists(directory):\n",
    "        os.mkdir(directory)\n",
    "\n",
    "    for i in range(start_idx, end_idx):\n",
    "\n",
    "        fig = plt.figure(dpi=200)\n",
    "        plt.subplot(121)\n",
    "\n",
    "        vector = test_goals_coords[i][-3,:2] - test_goals_coords[i][-1,:2]\n",
    "        th = np.arctan2(vector[1], vector[0])\n",
    "        R = np.array([[ np.cos(th), np.sin(th)], \\\n",
    "                      [-np.sin(th), np.cos(th)]])\n",
    "\n",
    "        # Plot the vehicle trajectory in the snippet\n",
    "        test_hist_traj_rot = test_hist_traj[i][:,:2] @ R.T\n",
    "        test_future_traj_rot = test_future_traj[i][:,:2] @ R.T\n",
    "        traj_pred_rot      = traj_pred[i][:, :2] @ R.T\n",
    "        plt.plot(test_hist_traj_rot[:,0], test_hist_traj_rot[:,1], 'k')\n",
    "        plt.plot(test_future_traj_rot[:,0], test_future_traj_rot[:,1], 'r')\n",
    "        plt.plot(traj_pred_rot[:,0], traj_pred_rot[:,1], 'b.', markersize = 3)\n",
    "\n",
    "        # Plot the occupancy in the snippet\n",
    "        test_goals_coords_rot = test_goals_coords[i][:,:2] @ R.T\n",
    "        for goal, occup in zip(test_goals_coords_rot, test_goals_coords[i]):\n",
    "            if occup[2] > 0:\n",
    "                plt.plot(goal[0], goal[1], 'ko', fillstyle='none', markersize = 9)\n",
    "            else:\n",
    "                plt.plot(goal[0], goal[1], 'ko', markersize = 9)\n",
    "\n",
    "        # Get the ground truth intention\n",
    "        gt_idx = np.argmax(test_one_hot_goal[i])\n",
    "        # Predictions above a threshold\n",
    "        thres = 1e-2\n",
    "        best_k_idx = [k for k, p in enumerate(goal_pred[i]) if p >= thres]\n",
    "        if gt_idx == 32: # If it is \"-1\" -> undetermined \n",
    "            plt.plot(0, 0, 'v', fillstyle='bottom', color = '#1f77b4', markersize = 9)\n",
    "        else:\n",
    "            plt.plot(test_goals_coords_rot[gt_idx][0], test_goals_coords_rot[gt_idx][1], 'o', fillstyle='bottom', color = '#1f77b4', markersize = 9)\n",
    "\n",
    "        for j in best_k_idx:\n",
    "            if j == 32:\n",
    "                plt.plot(0, 0, 'v', fillstyle='none', color = '#ff770e', markersize = 9)\n",
    "            else:\n",
    "                plt.plot(test_goals_coords_rot[j][0], test_goals_coords_rot[j][1], 'o', fillstyle='none', color = '#ff770e', markersize = 9)\n",
    "\n",
    "        plt.title('Dataset Entry %d' % i)\n",
    "    #     plt.axis('equal')\n",
    "\n",
    "        plt.subplot(122)\n",
    "        p1 = plt.bar(goal_ind - bar_width/2, test_one_hot_goal[i], bar_width, label='GT')\n",
    "        p2 = plt.bar(goal_ind + bar_width/2, goal_pred[i], bar_width, label='Pred')\n",
    "        plt.xlabel('Goal Index')\n",
    "        plt.ylabel('Probability')\n",
    "        plt.title('Likelihood from Dataset Entry %d' % i)\n",
    "        plt.legend()\n",
    "        plt.tight_layout()\n",
    "        \n",
    "        fig.savefig('./figures/%03d/frame_%03d.png' % (k, i-start_idx))\n",
    "        plt.close(fig)\n",
    "        \n",
    "    fps = 2\n",
    "    mv = os.system(\"ffmpeg -r {0:d} -i ./figures/{1:03d}/frame_%03d.png -vcodec mpeg4 -y ./figures/{1:03d}_movie.mp4\".format(fps, k) )\n",
    "    if mv == 0:\n",
    "        print(\"Trajectory # %03d movie saved successfully.\" % k)\n",
    "    else:\n",
    "        print(\"Meet problem saving Trajectory # %03d movie.\" % k)"
   ]
  },
  {
   "cell_type": "code",
   "execution_count": null,
   "metadata": {},
   "outputs": [],
   "source": []
  }
 ],
 "metadata": {
  "kernelspec": {
   "display_name": "Python 3",
   "language": "python",
   "name": "python3"
  },
  "language_info": {
   "codemirror_mode": {
    "name": "ipython",
    "version": 3
   },
   "file_extension": ".py",
   "mimetype": "text/x-python",
   "name": "python",
   "nbconvert_exporter": "python",
   "pygments_lexer": "ipython3",
   "version": "3.6.9"
  }
 },
 "nbformat": 4,
 "nbformat_minor": 2
}
