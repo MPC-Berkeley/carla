{
 "cells": [
  {
   "cell_type": "markdown",
   "metadata": {},
   "source": [
    "# LSTM: Many-to-many setup"
   ]
  },
  {
   "cell_type": "code",
   "execution_count": 100,
   "metadata": {},
   "outputs": [],
   "source": [
    "import re\n",
    "import numpy as np\n",
    "import unidecode\n",
    "from keras.preprocessing.sequence import pad_sequences\n",
    "from IPython import get_ipython;   \n",
    "#get_ipython().magic('reset -sf')\n",
    "import pandas\n",
    "import matplotlib.pyplot as plt\n",
    "from IPython import display\n",
    "import numpy as np\n",
    "import matplotlib.pyplot as plt\n",
    "import pandas\n",
    "import math\n",
    "from keras.models import Sequential\n",
    "from keras.layers import Dense,Dropout,Softmax,Flatten,concatenate\n",
    "from keras.layers import LSTM\n",
    "from keras.layers import *\n",
    "from sklearn.preprocessing import MinMaxScaler\n",
    "from sklearn.metrics import mean_squared_error\n",
    "from sklearn.metrics import mean_absolute_error\n",
    "from keras.callbacks import EarlyStopping\n",
    "from keras.utils import plot_model\n",
    "from IPython.display import Image"
   ]
  },
  {
   "cell_type": "code",
   "execution_count": 101,
   "metadata": {},
   "outputs": [
    {
     "data": {
      "image/png": "[encoded data removed]",
      "text/plain": [
       "<Figure size 432x288 with 1 Axes>"
      ]
     },
     "metadata": {
      "needs_background": "light"
     },
     "output_type": "display_data"
    }
   ],
   "source": [
    "thetas = np.linspace(0,4*np.pi,1000)\n",
    "dataset = np.array([np.sin(thetas),np.sin(thetas)*np.cos(thetas)]).T\n",
    "dataset = dataset.astype('float32')\n",
    "plt.plot(dataset[:,0],dataset[:,1])\n",
    "plt.show()"
   ]
  },
  {
   "cell_type": "code",
   "execution_count": 102,
   "metadata": {},
   "outputs": [],
   "source": [
    "# convert an array of values into a dataset matrix\n",
    "def create_dataset(dataset, look_back):\n",
    "    dataX, dataY = [], []\n",
    "    for i in range(len(dataset)-look_back-look_back):\n",
    "        print\n",
    "        a = dataset[i:(i+look_back), :]\n",
    "        b = dataset[(i+look_back):(i+look_back+look_back),:]\n",
    "        dataX.append(a)\n",
    "        dataY.append(b)\n",
    "    return np.array(dataX), np.array(dataY)"
   ]
  },
  {
   "cell_type": "code",
   "execution_count": 103,
   "metadata": {},
   "outputs": [
    {
     "data": {
      "text/plain": [
       "((630, 20, 2), (630, 20, 2))"
      ]
     },
     "execution_count": 103,
     "metadata": {},
     "output_type": "execute_result"
    }
   ],
   "source": [
    "train_size = int(len(dataset)*0.67)\n",
    "test_size = len(dataset) - train_size\n",
    "train, test = dataset[0:train_size,:], dataset[train_size:len(dataset),:]\n",
    "\n",
    "# reshape into X=t and Y=t+1\n",
    "look_back = 20\n",
    "trainX, trainY = create_dataset(train, look_back)\n",
    "trainX.shape,trainY.shape"
   ]
  },
  {
   "cell_type": "code",
   "execution_count": 118,
   "metadata": {},
   "outputs": [],
   "source": [
    "# Add your import statements here\n",
    "from keras import Input, Model\n",
    "from keras.layers import Activation, TimeDistributed, Dense, RepeatVector, Embedding\n",
    "from keras.layers.recurrent import LSTM\n",
    "\n",
    "def goal_model(traj_input_shape,goal_input_shape, hidden_dim,n_outputs):\n",
    "    \n",
    "    # Input to lstm\n",
    "    lstm_input = Input(shape=(traj_input_shape),name=\"input_trajectory\")\n",
    "    \n",
    "    # LSTM unit\n",
    "    lstm = LSTM(hidden_dim,return_state=True,name=\"lstm_unit\")\n",
    "    \n",
    "    # LSTM outputs\n",
    "    lstm_outputs, state_h, state_c = lstm(lstm_input)\n",
    "    \n",
    "    # Input for goals\n",
    "    goals_input = Input(shape=(goal_input_shape),name=\"goal_input\")\n",
    "    \n",
    "    # Merge inputs with LSTM features\n",
    "    concat_input = concatenate([goals_input,lstm_outputs],name=\"stacked_input\")\n",
    "    \n",
    "    # Final FC layer with a softmax activation\n",
    "    goal_output = Dense(n_outputs,activation=\"softmax\",name=\"goal_output\")(concat_input)\n",
    "        \n",
    "    # Create final model\n",
    "    model = Model([lstm_input,goals_input], goal_output)\n",
    "    \n",
    "    # Compile model using loss\n",
    "    model.compile(loss='categorical_crossentropy', optimizer='adam')\n",
    "    \n",
    "    return model\n",
    "\n",
    "def trajectory_model(traj_input_shape,goal_input_shape,hidden_dim,n_outputs):\n",
    "\n",
    "    # Input to lstm\n",
    "    lstm_input = Input(shape=(traj_input_shape),name=\"trajectory_input\")\n",
    "    \n",
    "    # LSTM unit\n",
    "    lstm = LSTM(hidden_dim,return_state=True,name=\"lstm_unit\")\n",
    "    \n",
    "    # LSTM outputs\n",
    "    lstm_outputs, state_h, state_c = lstm(lstm_input)\n",
    "    encoder_states = [state_h,state_c]\n",
    "    \n",
    "    # Input for goals\n",
    "    goals_input = Input(shape=(goal_input_shape),name=\"goal_input\")\n",
    "    \n",
    "    # Repeat the goal inputs\n",
    "    goals_repeated= RepeatVector(n_outputs)(goals_input)\n",
    "    \n",
    "    # Define decoder\n",
    "    decoder = LSTM(hidden_dim,return_sequences=True, return_state=True)\n",
    "    \n",
    "    # Decoder outputs, initialize with previous lstm states\n",
    "    decoder_outputs,_,_ = decoder(goals_repeated,initial_state=encoder_states)\n",
    "    \n",
    "    # Shape to a time series prediction of n_outputs x features\n",
    "    decoder_fully_connected = TimeDistributed(Dense(n_outputs))(decoder_outputs)\n",
    "    \n",
    "    # Create final model\n",
    "    model = Model([lstm_input,goals_input], decoder_fully_connected)\n",
    "    \n",
    "    # Compile model using loss\n",
    "    model.compile(loss='mean_squared_error', optimizer='adam')\n",
    "\n",
    "    return model\n",
    "    "
   ]
  },
  {
   "cell_type": "code",
   "execution_count": 162,
   "metadata": {},
   "outputs": [
    {
     "data": {
      "text/html": [
       "<table><tr><td><img src='model.png'></td><td><img src='traj_model.png'></td></tr></table>"
      ],
      "text/plain": [
       "<IPython.core.display.HTML object>"
      ]
     },
     "metadata": {},
     "output_type": "display_data"
    }
   ],
   "source": [
    "traj_input_shape=(20,2)\n",
    "goal_input_shape=(32*3,)\n",
    "hidden_dim = 20\n",
    "n_outputs = 10\n",
    "model = goal_model(traj_input_shape,goal_input_shape,hidden_dim,n_outputs)\n",
    "traj_model = trajectory_model(traj_input_shape,goal_input_shape,hidden_dim,n_outputs)\n",
    "plot_model(model,to_file='model.png')\n",
    "plot_model(traj_model,to_file='traj_model.png')\n",
    "display(HTML(\"<table><tr><td><img src='model.png'></td><td><img src='traj_model.png'></td></tr></table>\"))"
   ]
  },
  {
   "cell_type": "code",
   "execution_count": 68,
   "metadata": {},
   "outputs": [],
   "source": [
    "# Add your import statements here\n",
    "from keras import Input, Model\n",
    "from keras.layers import Activation, TimeDistributed, Dense, RepeatVector, Embedding\n",
    "from keras.layers.recurrent import LSTM\n",
    "\n",
    "def create_encoder(X_seq_len,X_seq_feat,Y_seq_len,Y_seq_feat, hidden_dim):\n",
    "    # Set up input shape to encoder\n",
    "    encoder_input_layer = Input(shape=(X_seq_len,X_seq_feat))\n",
    "    \n",
    "    # Define encoder\n",
    "    encoder = LSTM(hidden_dim,return_state=True)\n",
    "    # Encoder outputs - but only consider the memory and weights\n",
    "    encoder_outputs, state_h, state_c = encoder(encoder_input_layer)\n",
    "    \n",
    "    goal_input_layer = Input(shape=(32,))\n",
    "    \n",
    "    \n",
    "    encoder_input = concatenate([state_h,state_c,goal_input_layer])\n",
    "    \n",
    "    FC = Dense(33,activation='softmax')(encoder_input)\n",
    "        \n",
    "    # Create final model\n",
    "    model = Model([encoder_input_layer,goal_input_layer], FC)\n",
    "    \n",
    "    # Compile model using loss\n",
    "    model.compile(loss='categorical_crossentropy', optimizer='adam')\n",
    "    \n",
    "    return model\n",
    "    "
   ]
  },
  {
   "cell_type": "code",
   "execution_count": 102,
   "metadata": {},
   "outputs": [],
   "source": [
    "# Add your import statements here\n",
    "from keras import Input, Model\n",
    "from keras.layers import Activation, TimeDistributed, Dense, RepeatVector, Embedding\n",
    "from keras.layers.recurrent import LSTM\n",
    "\n",
    "def create_decoder(X_seq_len,X_seq_feat,Y_seq_len,Y_seq_feat, hidden_dim):\n",
    "    \n",
    "    \n",
    "    decoder_input = Input(shape=(53,))\n",
    "    decoder_fc = Dense((2*hidden_dim))(decoder_input)\n",
    "    decoder_shape = Reshape((2,hidden_dim))(decoder_fc)\n",
    "    \n",
    "    \n",
    "    \n",
    "    \n",
    "    \n",
    "    \n",
    "    # We need to feed the decoder some zero inputs that is uncorrelated\n",
    "    null_input = Input(shape=[Y_seq_feat])\n",
    "    repeated_null = RepeatVector(Y_seq_len)(null_input)\n",
    "    \n",
    "    # Define decoder\n",
    "    decoder = LSTM(hidden_dim,return_sequences=True, return_state=True)\n",
    "    decoder_outputs,_,_ = decoder(repeated_null,initial_state=[decoder_shape[0],decoder_shape[1]])\n",
    "    decoder_fully_connected = TimeDistributed(Dense(Y_seq_feat))(decoder_outputs)\n",
    "        \n",
    "    # Create final model\n",
    "    model = Model([decoder_input,null_input], decoder_fully_connected)\n",
    "    \n",
    "    # Compile model using loss\n",
    "    model.compile(loss='mean_squared_error', optimizer='adam')\n",
    "    \n",
    "    return model\n",
    "    "
   ]
  },
  {
   "cell_type": "code",
   "execution_count": 103,
   "metadata": {},
   "outputs": [
    {
     "name": "stdout",
     "output_type": "stream",
     "text": [
      "_________________________________________________________________\n",
      "Layer (type)                 Output Shape              Param #   \n",
      "=================================================================\n",
      "input_132 (InputLayer)       (None, 2)                 0         \n",
      "_________________________________________________________________\n",
      "repeat_vector_26 (RepeatVect (None, 20, 2)             0         \n",
      "_________________________________________________________________\n",
      "lstm_86 (LSTM)               [(None, 20, 20), (None, 2 1840      \n",
      "_________________________________________________________________\n",
      "time_distributed_22 (TimeDis (None, 20, 2)             42        \n",
      "=================================================================\n",
      "Total params: 1,882\n",
      "Trainable params: 1,882\n",
      "Non-trainable params: 0\n",
      "_________________________________________________________________\n",
      "None\n"
     ]
    }
   ],
   "source": [
    "input_len = 20\n",
    "input_feat = 2\n",
    "output_len = 20\n",
    "output_feat = 2\n",
    "hidden_dim = 20\n",
    "model = create_model(input_len,input_feat,output_len,output_feat,hidden_dim)\n",
    "#print(model.summary())\n",
    "encoder = create_encoder(input_len,input_feat,output_len,output_feat,hidden_dim)\n",
    "decoder = create_decoder(input_len,input_feat,output_len,output_feat,hidden_dim)\n",
    "#print(encoder.summary())\n",
    "print(decoder.summary())\n"
   ]
  },
  {
   "cell_type": "code",
   "execution_count": 51,
   "metadata": {
    "scrolled": true
   },
   "outputs": [
    {
     "name": "stdout",
     "output_type": "stream",
     "text": [
      "__________________________________________________________________________________________________\n",
      "Layer (type)                    Output Shape         Param #     Connected to                     \n",
      "==================================================================================================\n",
      "input_34 (InputLayer)           (None, 2)            0                                            \n",
      "__________________________________________________________________________________________________\n",
      "input_33 (InputLayer)           (None, 20, 2)        0                                            \n",
      "__________________________________________________________________________________________________\n",
      "repeat_vector_6 (RepeatVector)  (None, 20, 2)        0           input_34[0][0]                   \n",
      "__________________________________________________________________________________________________\n",
      "lstm_26 (LSTM)                  [(None, 20), (None,  1840        input_33[0][0]                   \n",
      "__________________________________________________________________________________________________\n",
      "lstm_27 (LSTM)                  [(None, 20, 20), (No 1840        repeat_vector_6[0][0]            \n",
      "                                                                 lstm_26[0][1]                    \n",
      "                                                                 lstm_26[0][2]                    \n",
      "__________________________________________________________________________________________________\n",
      "time_distributed_6 (TimeDistrib (None, 20, 2)        42          lstm_27[0][0]                    \n",
      "==================================================================================================\n",
      "Total params: 3,722\n",
      "Trainable params: 3,722\n",
      "Non-trainable params: 0\n",
      "__________________________________________________________________________________________________\n",
      "None\n"
     ]
    }
   ],
   "source": [
    "input_len = 20\n",
    "input_feat = 2\n",
    "output_len = 20\n",
    "output_feat = 2\n",
    "hidden_dim = 20\n",
    "model = create_model(input_len,input_feat,\n",
    "                     output_len,output_feat,hidden_dim)\n",
    "print(model.summary())\n",
    "x = trainX[:,:,:]\n",
    "y = trainY[:,:,:]\n",
    "z = np.zeros((len(x),output_feat))\n",
    "#model.fit([x,z],y,epochs=100)"
   ]
  },
  {
   "cell_type": "code",
   "execution_count": 8,
   "metadata": {},
   "outputs": [],
   "source": [
    "xp = model.predict([x,z])"
   ]
  },
  {
   "cell_type": "code",
   "execution_count": 9,
   "metadata": {},
   "outputs": [
    {
     "data": {
      "image/png": "[encoded data removed]",
      "text/plain": [
       "<Figure size 432x288 with 1 Axes>"
      ]
     },
     "metadata": {},
     "output_type": "display_data"
    },
    {
     "data": {
      "image/png": "[encoded data removed]",
      "text/plain": [
       "<Figure size 432x288 with 1 Axes>"
      ]
     },
     "metadata": {
      "needs_background": "light"
     },
     "output_type": "display_data"
    }
   ],
   "source": [
    "line, = plt.plot([],[],label='Input')\n",
    "line1, = plt.plot([],[],label='GT')\n",
    "line2, = plt.plot([],[],label='Pred')\n",
    "plt.legend()\n",
    "ax = plt.gca()\n",
    "ax.set_xlim(-1.1,1.1)\n",
    "ax.set_ylim(-1.1,1.1)\n",
    "ax.set_aspect('equal')\n",
    "for i in range(400):\n",
    "    line.set_data(trainX[i,:,0],trainX[i,:,1])\n",
    "    line1.set_data(trainY[i,:,0],trainY[i,:,1])\n",
    "    line2.set_data(xp[i,:,0],xp[i,:,1])\n",
    "    display.clear_output(wait=True)\n",
    "    display.display(plt.gcf()) "
   ]
  },
  {
   "cell_type": "code",
   "execution_count": null,
   "metadata": {},
   "outputs": [],
   "source": []
  }
 ],
 "metadata": {
  "kernelspec": {
   "display_name": "Python 3",
   "language": "python",
   "name": "python3"
  },
  "language_info": {
   "codemirror_mode": {
    "name": "ipython",
    "version": 3
   },
   "file_extension": ".py",
   "mimetype": "text/x-python",
   "name": "python",
   "nbconvert_exporter": "python",
   "pygments_lexer": "ipython3",
   "version": "3.6.3"
  }
 },
 "nbformat": 4,
 "nbformat_minor": 2
}
